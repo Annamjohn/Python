{
  "cells": [
    {
      "cell_type": "markdown",
      "metadata": {
        "id": "view-in-github",
        "colab_type": "text"
      },
      "source": [
        "<a href=\"https://colab.research.google.com/github/Annamjohn/Python/blob/main/date_time.ipynb\" target=\"_parent\"><img src=\"https://colab.research.google.com/assets/colab-badge.svg\" alt=\"Open In Colab\"/></a>"
      ]
    },
    {
      "cell_type": "code",
      "source": [
        "# from datetime import datetime\n",
        "# x=datetime.now()\n",
        "# print(x)\n",
        "\n",
        "import datetime as dt\n",
        "y=dt.datetime.now()\n",
        "print(y)\n",
        "print(y.year)\n",
        "print(y.strftime(\"%A\"))"
      ],
      "metadata": {
        "id": "J4PKI9gJqLwl",
        "outputId": "145f2397-3daa-4016-9a56-6042d5b06994",
        "colab": {
          "base_uri": "https://localhost:8080/"
        }
      },
      "execution_count": 11,
      "outputs": [
        {
          "output_type": "stream",
          "name": "stdout",
          "text": [
            "2023-05-05 07:04:44.994569\n",
            "2023\n",
            "Friday\n"
          ]
        }
      ]
    },
    {
      "cell_type": "code",
      "source": [
        "a=dt.datetime(2018,3,20)\n",
        "print(a)\n",
        "print(a.strftime(\"%B\"))"
      ],
      "metadata": {
        "id": "PgEVCZpQqLzd",
        "outputId": "6521e514-126a-4ab3-c16b-ba6aa3465f6d",
        "colab": {
          "base_uri": "https://localhost:8080/"
        }
      },
      "execution_count": 17,
      "outputs": [
        {
          "output_type": "stream",
          "name": "stdout",
          "text": [
            "2018-03-20 00:00:00\n",
            "March\n"
          ]
        }
      ]
    },
    {
      "cell_type": "code",
      "source": [],
      "metadata": {
        "id": "nilxnEd3qL2c"
      },
      "execution_count": null,
      "outputs": []
    },
    {
      "cell_type": "code",
      "source": [],
      "metadata": {
        "id": "EHlDQsH-qL57"
      },
      "execution_count": null,
      "outputs": []
    }
  ],
  "metadata": {
    "colab": {
      "name": "Welcome To Colaboratory",
      "provenance": [],
      "include_colab_link": true
    },
    "kernelspec": {
      "display_name": "Python 3",
      "name": "python3"
    }
  },
  "nbformat": 4,
  "nbformat_minor": 0
}