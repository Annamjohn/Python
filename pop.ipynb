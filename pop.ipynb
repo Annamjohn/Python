{
  "nbformat": 4,
  "nbformat_minor": 0,
  "metadata": {
    "colab": {
      "name": "Untitled0.ipynb",
      "provenance": [],
      "authorship_tag": "ABX9TyN7Zg6qJFixkgndvdE7jY0I",
      "include_colab_link": true
    },
    "kernelspec": {
      "name": "python3",
      "display_name": "Python 3"
    },
    "language_info": {
      "name": "python"
    }
  },
  "cells": [
    {
      "cell_type": "markdown",
      "metadata": {
        "id": "view-in-github",
        "colab_type": "text"
      },
      "source": [
        "<a href=\"https://colab.research.google.com/github/Annamjohn/Python/blob/main/pop.ipynb\" target=\"_parent\"><img src=\"https://colab.research.google.com/assets/colab-badge.svg\" alt=\"Open In Colab\"/></a>"
      ]
    },
    {
      "cell_type": "code",
      "execution_count": null,
      "metadata": {
        "id": "8SmnUJHs_B0f"
      },
      "outputs": [],
      "source": [
        ""
      ]
    },
    {
      "cell_type": "code",
      "source": [
        "A1=list((1,\"data \", False,4,5,6,3, True))\n",
        "A2=list((2,3,\"notes\",True,9))\n",
        "print(A1)\n",
        "A1.extend(A2)\n",
        "A1.pop()\n",
        "print(A1)"
      ],
      "metadata": {
        "colab": {
          "base_uri": "https://localhost:8080/"
        },
        "id": "MY19L1gEInzT",
        "outputId": "d658bc12-b005-4794-cc46-14a2c2a29abc"
      },
      "execution_count": 32,
      "outputs": [
        {
          "output_type": "stream",
          "name": "stdout",
          "text": [
            "[1, 'data ', False, 4, 5, 6, 3, True]\n",
            "[1, 'data ', False, 4, 5, 6, 3, True, 2, 3, 'notes', True]\n"
          ]
        }
      ]
    }
  ]
}