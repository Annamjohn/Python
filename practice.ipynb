{
  "nbformat": 4,
  "nbformat_minor": 0,
  "metadata": {
    "colab": {
      "provenance": [],
      "authorship_tag": "ABX9TyMAMnF3RROJ9lRMSMHFj4WH",
      "include_colab_link": true
    },
    "kernelspec": {
      "name": "python3",
      "display_name": "Python 3"
    },
    "language_info": {
      "name": "python"
    }
  },
  "cells": [
    {
      "cell_type": "markdown",
      "metadata": {
        "id": "view-in-github",
        "colab_type": "text"
      },
      "source": [
        "<a href=\"https://colab.research.google.com/github/Annamjohn/Python/blob/main/practice.ipynb\" target=\"_parent\"><img src=\"https://colab.research.google.com/assets/colab-badge.svg\" alt=\"Open In Colab\"/></a>"
      ]
    },
    {
      "cell_type": "code",
      "source": [
        "x=5\n",
        "print(x)"
      ],
      "metadata": {
        "colab": {
          "base_uri": "https://localhost:8080/"
        },
        "id": "2XHFBzx_Govy",
        "outputId": "5703572c-0140-4e48-8890-d104596eb6e3"
      },
      "execution_count": 5,
      "outputs": [
        {
          "output_type": "stream",
          "name": "stdout",
          "text": [
            "5\n"
          ]
        }
      ]
    },
    {
      "cell_type": "code",
      "source": [
        "x=5\n",
        "y=3\n",
        "print(\"sum=\",x+y)\n",
        "print(\"difference=\",x-y)\n",
        "print(\"product=\",x*y)\n",
        "print(\"quotient=\",x/y)\n",
        "print(\"remainder=\",x%y)\n"
      ],
      "metadata": {
        "colab": {
          "base_uri": "https://localhost:8080/"
        },
        "id": "e3GxFm7pG9qn",
        "outputId": "1ccdbb3c-caab-4a6d-cf90-2c3399394ee3"
      },
      "execution_count": 19,
      "outputs": [
        {
          "output_type": "stream",
          "name": "stdout",
          "text": [
            "sum= 8\n",
            "difference= 2\n",
            "product= 15\n",
            "quotient= 1.6666666666666667\n",
            "remainder= 2\n"
          ]
        }
      ]
    },
    {
      "cell_type": "code",
      "source": [
        "a=\"AnnWaarrrr\"\n",
        "print(a.lower())\n",
        "print(a.upper())\n"
      ],
      "metadata": {
        "colab": {
          "base_uri": "https://localhost:8080/"
        },
        "id": "7a3kM635GsT5",
        "outputId": "6e0c256b-f316-4fe7-826a-c884240b7289"
      },
      "execution_count": 17,
      "outputs": [
        {
          "output_type": "stream",
          "name": "stdout",
          "text": [
            "annwaarrrr\n",
            "ANNWAARRRR\n"
          ]
        }
      ]
    },
    {
      "cell_type": "code",
      "source": [
        "x,y=\"apple\",\"mango\"\n",
        "z=w=q=\"orange\"\n",
        "print(x,y)\n",
        "print(z,w,q)"
      ],
      "metadata": {
        "colab": {
          "base_uri": "https://localhost:8080/"
        },
        "id": "B9j9SPSoK7sr",
        "outputId": "ee8b3db6-6039-4e9a-ced0-6f0d465ce6f2"
      },
      "execution_count": 33,
      "outputs": [
        {
          "output_type": "stream",
          "name": "stdout",
          "text": [
            "apple mango\n",
            "orange orange orange\n"
          ]
        }
      ]
    },
    {
      "cell_type": "code",
      "source": [
        "x=\"this is a sentence. \"\n",
        "y=\"So what this can't be another one?\"\n",
        "if x != y:\n",
        "  print(x+y)"
      ],
      "metadata": {
        "colab": {
          "base_uri": "https://localhost:8080/"
        },
        "id": "BP4xJ-vqLKfG",
        "outputId": "c9b31bc8-4b49-4311-e1ae-a5c5124adf4d"
      },
      "execution_count": 27,
      "outputs": [
        {
          "output_type": "stream",
          "name": "stdout",
          "text": [
            "this is a sentence. So what this can't be another one?\n"
          ]
        }
      ]
    },
    {
      "cell_type": "code",
      "source": [
        "x=1.23\n",
        "print(type(x),x)\n",
        "y=2+3j\n",
        "print(type(y),y)\n",
        "z=\"hello\"\n",
        "print(type(z),z)\n",
        "a= 10\n",
        "print(type(a),a)\n",
        "f= True\n",
        "print(type(f),f)"
      ],
      "metadata": {
        "colab": {
          "base_uri": "https://localhost:8080/"
        },
        "id": "J_Rgw7D3MgVk",
        "outputId": "6f042d0f-6ec6-4eee-d3c5-1ae2bb924dc6"
      },
      "execution_count": 32,
      "outputs": [
        {
          "output_type": "stream",
          "name": "stdout",
          "text": [
            "<class 'float'> 1.23\n",
            "<class 'complex'> (2+3j)\n",
            "<class 'str'> hello\n",
            "<class 'int'> 10\n",
            "<class 'bool'> True\n"
          ]
        }
      ]
    },
    {
      "cell_type": "code",
      "source": [
        "x= 10.5\n",
        "print(int(x))\n",
        "y= 10\n",
        "print(float(y))\n",
        "print(complex(x))\n",
        "print(complex(y))\n",
        "#c=4+6j\n",
        "#print(float(c))"
      ],
      "metadata": {
        "colab": {
          "base_uri": "https://localhost:8080/"
        },
        "id": "C4JeK6k3NXkE",
        "outputId": "5198a2fb-6196-452f-eeca-8265c76a71f3"
      },
      "execution_count": 45,
      "outputs": [
        {
          "output_type": "stream",
          "name": "stdout",
          "text": [
            "10\n",
            "10.0\n",
            "(10.5+0j)\n",
            "(10+0j)\n"
          ]
        }
      ]
    },
    {
      "cell_type": "code",
      "source": [
        "import random\n",
        "x=random.randint(1,9)\n",
        "print(x)"
      ],
      "metadata": {
        "colab": {
          "base_uri": "https://localhost:8080/"
        },
        "id": "j6C32zwxRcbX",
        "outputId": "c1d25049-772f-425a-e444-dee665921207"
      },
      "execution_count": 83,
      "outputs": [
        {
          "output_type": "stream",
          "name": "stdout",
          "text": [
            "2\n"
          ]
        }
      ]
    },
    {
      "cell_type": "code",
      "source": [
        "# f= \"i am a student.\\ni want to study.\\ni love you.\"\n",
        "f= \"\"\"i am a student. \n",
        "i want to study. \n",
        "i love you.\"\"\"\n",
        "print(f)"
      ],
      "metadata": {
        "colab": {
          "base_uri": "https://localhost:8080/"
        },
        "id": "_MxMkCsoR3v7",
        "outputId": "5f3c980a-9c53-498a-abc3-3cb0f2e7f09b"
      },
      "execution_count": 94,
      "outputs": [
        {
          "output_type": "stream",
          "name": "stdout",
          "text": [
            "i am a student. \n",
            "i want to study. \n",
            "i love you.\n"
          ]
        }
      ]
    },
    {
      "cell_type": "code",
      "source": [],
      "metadata": {
        "id": "xk-mwg2PVFy2"
      },
      "execution_count": null,
      "outputs": []
    },
    {
      "cell_type": "code",
      "source": [],
      "metadata": {
        "id": "PunmOiPZTDRs"
      },
      "execution_count": null,
      "outputs": []
    }
  ]
}