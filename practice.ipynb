{
  "nbformat": 4,
  "nbformat_minor": 0,
  "metadata": {
    "colab": {
      "provenance": [],
      "authorship_tag": "ABX9TyMCYj/MhtinGKoxHjvKn83P",
      "include_colab_link": true
    },
    "kernelspec": {
      "name": "python3",
      "display_name": "Python 3"
    },
    "language_info": {
      "name": "python"
    }
  },
  "cells": [
    {
      "cell_type": "markdown",
      "metadata": {
        "id": "view-in-github",
        "colab_type": "text"
      },
      "source": [
        "<a href=\"https://colab.research.google.com/github/Annamjohn/Python/blob/main/practice.ipynb\" target=\"_parent\"><img src=\"https://colab.research.google.com/assets/colab-badge.svg\" alt=\"Open In Colab\"/></a>"
      ]
    },
    {
      "cell_type": "code",
      "source": [
        "x=5\n",
        "print(x)"
      ],
      "metadata": {
        "colab": {
          "base_uri": "https://localhost:8080/"
        },
        "id": "2XHFBzx_Govy",
        "outputId": "5703572c-0140-4e48-8890-d104596eb6e3"
      },
      "execution_count": 5,
      "outputs": [
        {
          "output_type": "stream",
          "name": "stdout",
          "text": [
            "5\n"
          ]
        }
      ]
    },
    {
      "cell_type": "code",
      "source": [
        "x=5\n",
        "y=3\n",
        "print(\"sum=\",x+y)\n",
        "print(\"difference=\",x-y)\n",
        "print(\"product=\",x*y)\n",
        "print(\"quotient=\",x/y)\n",
        "print(\"remainder=\",x%y)\n"
      ],
      "metadata": {
        "colab": {
          "base_uri": "https://localhost:8080/"
        },
        "id": "e3GxFm7pG9qn",
        "outputId": "1ccdbb3c-caab-4a6d-cf90-2c3399394ee3"
      },
      "execution_count": 19,
      "outputs": [
        {
          "output_type": "stream",
          "name": "stdout",
          "text": [
            "sum= 8\n",
            "difference= 2\n",
            "product= 15\n",
            "quotient= 1.6666666666666667\n",
            "remainder= 2\n"
          ]
        }
      ]
    },
    {
      "cell_type": "code",
      "source": [
        "a=\"HeLlo\"\n",
        "print(a.lower())\n",
        "print(a.upper())\n"
      ],
      "metadata": {
        "colab": {
          "base_uri": "https://localhost:8080/"
        },
        "id": "7a3kM635GsT5",
        "outputId": "889a0856-c154-4052-d14f-b0f12cfa7835"
      },
      "execution_count": 134,
      "outputs": [
        {
          "output_type": "stream",
          "name": "stdout",
          "text": [
            "hello\n",
            "HELLO\n"
          ]
        }
      ]
    },
    {
      "cell_type": "code",
      "source": [
        "x,y=\"apple\",\"mango\"\n",
        "z=w=q=\"orange\"\n",
        "print(x,y)\n",
        "print(z,w,q)"
      ],
      "metadata": {
        "colab": {
          "base_uri": "https://localhost:8080/"
        },
        "id": "B9j9SPSoK7sr",
        "outputId": "ee8b3db6-6039-4e9a-ced0-6f0d465ce6f2"
      },
      "execution_count": 33,
      "outputs": [
        {
          "output_type": "stream",
          "name": "stdout",
          "text": [
            "apple mango\n",
            "orange orange orange\n"
          ]
        }
      ]
    },
    {
      "cell_type": "code",
      "source": [
        "x=\"this is a sentence. \"\n",
        "y=\"So what this can't be another one?\"\n",
        "if x != y:\n",
        "  print(x+y)"
      ],
      "metadata": {
        "colab": {
          "base_uri": "https://localhost:8080/"
        },
        "id": "BP4xJ-vqLKfG",
        "outputId": "c9b31bc8-4b49-4311-e1ae-a5c5124adf4d"
      },
      "execution_count": 27,
      "outputs": [
        {
          "output_type": "stream",
          "name": "stdout",
          "text": [
            "this is a sentence. So what this can't be another one?\n"
          ]
        }
      ]
    },
    {
      "cell_type": "code",
      "source": [
        "x=1.23\n",
        "print(type(x),x)\n",
        "y=2+3j\n",
        "print(type(y),y)\n",
        "z=\"hello\"\n",
        "print(type(z),z)\n",
        "a= 10\n",
        "print(type(a),a)\n",
        "f= True\n",
        "print(type(f),f)"
      ],
      "metadata": {
        "colab": {
          "base_uri": "https://localhost:8080/"
        },
        "id": "J_Rgw7D3MgVk",
        "outputId": "6f042d0f-6ec6-4eee-d3c5-1ae2bb924dc6"
      },
      "execution_count": 32,
      "outputs": [
        {
          "output_type": "stream",
          "name": "stdout",
          "text": [
            "<class 'float'> 1.23\n",
            "<class 'complex'> (2+3j)\n",
            "<class 'str'> hello\n",
            "<class 'int'> 10\n",
            "<class 'bool'> True\n"
          ]
        }
      ]
    },
    {
      "cell_type": "code",
      "source": [
        "x= 10.5\n",
        "print(int(x))\n",
        "y= 10\n",
        "print(float(y))\n",
        "print(complex(x))\n",
        "print(complex(y))\n",
        "#c=4+6j\n",
        "#print(float(c))"
      ],
      "metadata": {
        "colab": {
          "base_uri": "https://localhost:8080/"
        },
        "id": "C4JeK6k3NXkE",
        "outputId": "5198a2fb-6196-452f-eeca-8265c76a71f3"
      },
      "execution_count": 45,
      "outputs": [
        {
          "output_type": "stream",
          "name": "stdout",
          "text": [
            "10\n",
            "10.0\n",
            "(10.5+0j)\n",
            "(10+0j)\n"
          ]
        }
      ]
    },
    {
      "cell_type": "code",
      "source": [
        "import random\n",
        "x=random.randint(1,9)\n",
        "print(x)"
      ],
      "metadata": {
        "colab": {
          "base_uri": "https://localhost:8080/"
        },
        "id": "j6C32zwxRcbX",
        "outputId": "c1d25049-772f-425a-e444-dee665921207"
      },
      "execution_count": 83,
      "outputs": [
        {
          "output_type": "stream",
          "name": "stdout",
          "text": [
            "2\n"
          ]
        }
      ]
    },
    {
      "cell_type": "code",
      "source": [
        "# f= \"i am a student.\\ni want to study.\\ni love you.\"\n",
        "f= \"\"\"i am a student. \n",
        "i want to study. \n",
        "i love you.\"\"\"\n",
        "print(f)"
      ],
      "metadata": {
        "colab": {
          "base_uri": "https://localhost:8080/"
        },
        "id": "_MxMkCsoR3v7",
        "outputId": "5f3c980a-9c53-498a-abc3-3cb0f2e7f09b"
      },
      "execution_count": 94,
      "outputs": [
        {
          "output_type": "stream",
          "name": "stdout",
          "text": [
            "i am a student. \n",
            "i want to study. \n",
            "i love you.\n"
          ]
        }
      ]
    },
    {
      "cell_type": "code",
      "source": [
        "inp= \"hello world\"\n",
        "val= inp.index(\"l\")\n",
        "print(inp[val])\n",
        "\n",
        "x=\"i am a girl\"\n",
        "w=x.index(\"m\")\n",
        "print(x[w])"
      ],
      "metadata": {
        "colab": {
          "base_uri": "https://localhost:8080/"
        },
        "id": "xk-mwg2PVFy2",
        "outputId": "c05fac1a-da17-4fa9-f44e-ca2b02c44f83"
      },
      "execution_count": 105,
      "outputs": [
        {
          "output_type": "stream",
          "name": "stdout",
          "text": [
            "l\n",
            "m\n"
          ]
        }
      ]
    },
    {
      "cell_type": "code",
      "source": [
        "red=\"a whole new world\"\n",
        "print(red[0],red[5],red[13],red[8],red[6])"
      ],
      "metadata": {
        "colab": {
          "base_uri": "https://localhost:8080/"
        },
        "id": "PunmOiPZTDRs",
        "outputId": "1b06d41e-beaf-43b6-cb73-d813657da811"
      },
      "execution_count": 101,
      "outputs": [
        {
          "output_type": "stream",
          "name": "stdout",
          "text": [
            "a l o n e\n"
          ]
        }
      ]
    },
    {
      "cell_type": "code",
      "source": [
        "f= \"hello world\"\n",
        "print(f[1:10])"
      ],
      "metadata": {
        "colab": {
          "base_uri": "https://localhost:8080/"
        },
        "id": "OEodkSUPXiUn",
        "outputId": "df1a18b3-dedd-473b-bbfb-bcf2813ae711"
      },
      "execution_count": 107,
      "outputs": [
        {
          "output_type": "stream",
          "name": "stdout",
          "text": [
            "ello worl\n"
          ]
        }
      ]
    },
    {
      "cell_type": "code",
      "source": [
        "f= \"hello world\"\n",
        "print(len(f))\n",
        "val1= f.index(\"e\")\n",
        "print(val1)\n",
        "val2= f.index(\"l\")\n",
        "print(val2)\n",
        "print(f[::-1])"
      ],
      "metadata": {
        "colab": {
          "base_uri": "https://localhost:8080/"
        },
        "id": "I3fBv2OiXiXc",
        "outputId": "ccc96455-6cf5-4bc2-b501-f87f4b31178a"
      },
      "execution_count": 115,
      "outputs": [
        {
          "output_type": "stream",
          "name": "stdout",
          "text": [
            "11\n",
            "1\n",
            "2\n",
            "dlrow olleh\n"
          ]
        }
      ]
    },
    {
      "cell_type": "code",
      "source": [
        "import pandas as pd\n",
        "dataset={\n",
        "    'cars':[[\"bmw\", \"ford\", \"ferrari\"],97],\n",
        "    'passings':[[3,7,2],52]\n",
        "}\n",
        "var=pd.DataFrame(dataset)\n",
        "print(var)\n",
        "print(dataset[\"cars\"][0][1])"
      ],
      "metadata": {
        "colab": {
          "base_uri": "https://localhost:8080/"
        },
        "id": "jWj1-mHkXiaO",
        "outputId": "d723c1df-b0f9-449c-dae7-6bb2e8ae99e6"
      },
      "execution_count": 133,
      "outputs": [
        {
          "output_type": "stream",
          "name": "stdout",
          "text": [
            "                   cars   passings\n",
            "0  [bmw, ford, ferrari]  [3, 7, 2]\n",
            "1                    97         52\n",
            "ford\n"
          ]
        }
      ]
    },
    {
      "cell_type": "code",
      "source": [
        "f= \"hello world\"\n",
        "f= f.replace(\"e\",\"a\")\n",
        "print(f)\n",
        "\n",
        "g=\"hello there\"\n",
        "g=g.replace('l','w')\n",
        "print(g)"
      ],
      "metadata": {
        "colab": {
          "base_uri": "https://localhost:8080/"
        },
        "id": "mNJWEwHpa-dH",
        "outputId": "19819c6c-41e8-4c00-adde-ed96662d273b"
      },
      "execution_count": 127,
      "outputs": [
        {
          "output_type": "stream",
          "name": "stdout",
          "text": [
            "hallo world\n",
            "hewwo there\n"
          ]
        }
      ]
    },
    {
      "cell_type": "code",
      "source": [
        "a=int(input(\"No.1 \"))\n",
        "b=int(input(\"No.2 \"))\n",
        "if a==b:\n",
        "  f= True\n",
        "else:\n",
        "  f= False\n",
        "print(f)"
      ],
      "metadata": {
        "colab": {
          "base_uri": "https://localhost:8080/"
        },
        "id": "FW8yfroHb5f-",
        "outputId": "1403c6fc-e413-4aeb-e176-629232eac772"
      },
      "execution_count": 132,
      "outputs": [
        {
          "output_type": "stream",
          "name": "stdout",
          "text": [
            "No.1 4\n",
            "No.2 2\n",
            "False\n"
          ]
        }
      ]
    },
    {
      "cell_type": "code",
      "source": [
        "str=\" Hello what are you doing\"\n",
        "w=\"care\" in str\n",
        "print(w)\n",
        "x=\"are\" in str\n",
        "print(x)"
      ],
      "metadata": {
        "colab": {
          "base_uri": "https://localhost:8080/"
        },
        "id": "XYn6hmBQf-zh",
        "outputId": "e951c463-2a3e-4453-8163-9f9fa5deac24"
      },
      "execution_count": 138,
      "outputs": [
        {
          "output_type": "stream",
          "name": "stdout",
          "text": [
            "False\n",
            "True\n"
          ]
        }
      ]
    }
  ]
}