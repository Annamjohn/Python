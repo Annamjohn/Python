{
  "nbformat": 4,
  "nbformat_minor": 0,
  "metadata": {
    "colab": {
      "provenance": [],
      "authorship_tag": "ABX9TyPuDyztaAuU//4rP9QnRzLd",
      "include_colab_link": true
    },
    "kernelspec": {
      "name": "python3",
      "display_name": "Python 3"
    },
    "language_info": {
      "name": "python"
    }
  },
  "cells": [
    {
      "cell_type": "markdown",
      "metadata": {
        "id": "view-in-github",
        "colab_type": "text"
      },
      "source": [
        "<a href=\"https://colab.research.google.com/github/Annamjohn/Python/blob/main/python_new.ipynb\" target=\"_parent\"><img src=\"https://colab.research.google.com/assets/colab-badge.svg\" alt=\"Open In Colab\"/></a>"
      ]
    },
    {
      "cell_type": "code",
      "execution_count": null,
      "metadata": {
        "colab": {
          "base_uri": "https://localhost:8080/"
        },
        "id": "jBTp9rbLujyl",
        "outputId": "6fe64346-5555-42f7-b2ce-045866935526"
      },
      "outputs": [
        {
          "output_type": "stream",
          "name": "stdout",
          "text": [
            "Hello\n",
            "4\n",
            "3\n",
            "2+1\n",
            "16\n",
            "12.5\n",
            "0\n",
            "3\n",
            "25\n"
          ]
        }
      ],
      "source": [
        "print(\"Hello\")\n",
        "print(2+2)\n",
        "print(4-1)\n",
        "print(\"2+1\")\n",
        "print(2*8)\n",
        "print(25/2) # proper division float number full\n",
        "print(25%5) #remainder\n",
        "print(15//5) #quotient i.e whole number(floor div)\n",
        "print(5**2) #exponent\n"
      ]
    },
    {
      "cell_type": "code",
      "source": [
        "print(type(3))\n",
        "print(type(2+1.2))\n",
        "print(2+1.3) #normal addn\n",
        "\n",
        "print(round(4.934565665432,2))\n",
        "print(abs(-123))"
      ],
      "metadata": {
        "colab": {
          "base_uri": "https://localhost:8080/"
        },
        "id": "7TqQzIjku1Qc",
        "outputId": "8a8d1b4e-b7ba-4c76-b8c8-16646792bcad"
      },
      "execution_count": null,
      "outputs": [
        {
          "output_type": "stream",
          "name": "stdout",
          "text": [
            "<class 'int'>\n",
            "<class 'float'>\n",
            "3.3\n",
            "4.93\n",
            "123\n"
          ]
        }
      ]
    },
    {
      "cell_type": "markdown",
      "source": [
        "# **Operator precedence**\n",
        "\n",
        "######()\n",
        "#####**\n",
        "#####* / // %\n",
        "#####+ -"
      ],
      "metadata": {
        "id": "qBSbRqBhu7SF"
      }
    },
    {
      "cell_type": "code",
      "source": [
        "print(bin(8))\n",
        "print(int('0b1000',2))"
      ],
      "metadata": {
        "colab": {
          "base_uri": "https://localhost:8080/"
        },
        "id": "g08dDtiQu1Vk",
        "outputId": "84d9d13e-4102-4fa4-aad9-67c131486769"
      },
      "execution_count": null,
      "outputs": [
        {
          "output_type": "stream",
          "name": "stdout",
          "text": [
            "0b1000\n",
            "8\n"
          ]
        }
      ]
    },
    {
      "cell_type": "code",
      "source": [
        "a,b,c=2,5,3\n",
        "print(b)"
      ],
      "metadata": {
        "colab": {
          "base_uri": "https://localhost:8080/"
        },
        "id": "Qq76O5oLu1YG",
        "outputId": "3fe82a18-bb46-475e-e541-b080052a772b"
      },
      "execution_count": null,
      "outputs": [
        {
          "output_type": "stream",
          "name": "stdout",
          "text": [
            "5\n"
          ]
        }
      ]
    },
    {
      "cell_type": "code",
      "source": [
        "print(type('you are a boy?'))"
      ],
      "metadata": {
        "colab": {
          "base_uri": "https://localhost:8080/"
        },
        "id": "lxcFnTB6u1bG",
        "outputId": "3257dcf3-a2c8-43bb-89cc-96c191c70012"
      },
      "execution_count": null,
      "outputs": [
        {
          "output_type": "stream",
          "name": "stdout",
          "text": [
            "<class 'str'>\n"
          ]
        }
      ]
    },
    {
      "cell_type": "code",
      "source": [
        "print('''\n",
        "\n",
        "wowoo you\n",
        "ooo\n",
        "---\n",
        "''') # mutli line string"
      ],
      "metadata": {
        "colab": {
          "base_uri": "https://localhost:8080/"
        },
        "id": "hJts-uPNu1em",
        "outputId": "3b8f7556-93c0-4377-96c9-7663d5771a52"
      },
      "execution_count": null,
      "outputs": [
        {
          "output_type": "stream",
          "name": "stdout",
          "text": [
            "\n",
            "\n",
            "wowoo you\n",
            "ooo\n",
            "---\n",
            "\n"
          ]
        }
      ]
    },
    {
      "cell_type": "markdown",
      "source": [
        "**String concatenation**"
      ],
      "metadata": {
        "id": "9YwZibqM3fsN"
      }
    },
    {
      "cell_type": "code",
      "source": [
        "first_name=input(\"Enter first name\")\n",
        "last_name=input(\"\\nEnter last name\")\n",
        "full_name= first_name + \" \"+ last_name\n",
        "print(full_name)"
      ],
      "metadata": {
        "colab": {
          "base_uri": "https://localhost:8080/"
        },
        "id": "TeBztktE1c_S",
        "outputId": "cdbaf8dd-f39a-4e8b-f71f-d38ffc0f0b0d"
      },
      "execution_count": null,
      "outputs": [
        {
          "output_type": "stream",
          "name": "stdout",
          "text": [
            "Enter first nameannu\n",
            "\n",
            "Enter last namemani\n",
            "annu mani\n"
          ]
        }
      ]
    },
    {
      "cell_type": "markdown",
      "source": [
        "**Type** **conversion**"
      ],
      "metadata": {
        "id": "T1ATtutY3Yey"
      }
    },
    {
      "cell_type": "code",
      "source": [
        "a=str(120)\n",
        "b=float(a)\n",
        "c=type(b)\n",
        "print(c)"
      ],
      "metadata": {
        "colab": {
          "base_uri": "https://localhost:8080/"
        },
        "id": "GyB23ktn2Mb9",
        "outputId": "48360b67-522a-439a-fe3f-f0a996318496"
      },
      "execution_count": null,
      "outputs": [
        {
          "output_type": "stream",
          "name": "stdout",
          "text": [
            "<class 'float'>\n"
          ]
        }
      ]
    },
    {
      "cell_type": "code",
      "source": [
        "print(\" hello, it\\'s \\\"kind of\\\" a good day\")"
      ],
      "metadata": {
        "colab": {
          "base_uri": "https://localhost:8080/"
        },
        "id": "mAkEmgF83WZ1",
        "outputId": "509c64d6-0c36-4103-8e13-fe9ae55bdeba"
      },
      "execution_count": null,
      "outputs": [
        {
          "output_type": "stream",
          "name": "stdout",
          "text": [
            " hello, it's \"kind of\" a good day\n"
          ]
        }
      ]
    },
    {
      "cell_type": "markdown",
      "source": [
        "**Formatted** **strings**"
      ],
      "metadata": {
        "id": "K5AkoVMvjFZP"
      }
    },
    {
      "cell_type": "code",
      "source": [
        "name='Anju'\n",
        "age=27\n",
        "print(f'hi {name} you are {age} years old')\n",
        "\n",
        "print('yo {} how come you are {}?'.format(name,age))"
      ],
      "metadata": {
        "colab": {
          "base_uri": "https://localhost:8080/"
        },
        "id": "qDTj0dXzYszU",
        "outputId": "c7b14782-071e-48a2-cf5e-e47723e9f32f"
      },
      "execution_count": null,
      "outputs": [
        {
          "output_type": "stream",
          "name": "stdout",
          "text": [
            "hi Anju you are 27 years old\n",
            "yo 27 how come you are Anju?\n"
          ]
        }
      ]
    },
    {
      "cell_type": "code",
      "source": [
        "print('{newname} ok {age}'.format(newname='anj',age=20))"
      ],
      "metadata": {
        "colab": {
          "base_uri": "https://localhost:8080/"
        },
        "id": "iGrBIDUThIPC",
        "outputId": "68582d0b-d188-443a-dbaf-4a0f5abd0c05"
      },
      "execution_count": null,
      "outputs": [
        {
          "output_type": "stream",
          "name": "stdout",
          "text": [
            "anj ok 20\n"
          ]
        }
      ]
    },
    {
      "cell_type": "markdown",
      "source": [
        "\n",
        "\n",
        "*   print(f' ')- provide variable names inside {}\n",
        "*   print(' {} and {}'.format(n,a))- empty brackets are enough and mention variable names in .format\n",
        "\n",
        "*  when a variable is assigned a value in .format mention variable name inside {}\n",
        "\n",
        "\n",
        "\n",
        "\n"
      ],
      "metadata": {
        "id": "aGVBV3UYjKmb"
      }
    },
    {
      "cell_type": "markdown",
      "source": [
        "**String Slicing**\n",
        "\n",
        "[start:stop:stepover]"
      ],
      "metadata": {
        "id": "7FRFLMb8mm2-"
      }
    },
    {
      "cell_type": "code",
      "source": [
        "var='01234567'\n",
        "print(\"1.\", var[3])\n",
        "print(var[0:3])\n",
        "print(var[0:9:2])\n",
        "print(var[-5])\n",
        "print(var[1:])\n",
        "print(var[::-2])\n",
        "print(var[::-1])\n"
      ],
      "metadata": {
        "colab": {
          "base_uri": "https://localhost:8080/"
        },
        "id": "E-NB_d8oiqeM",
        "outputId": "870892b6-1199-4e02-dfb7-f7998ac2b741"
      },
      "execution_count": null,
      "outputs": [
        {
          "output_type": "stream",
          "name": "stdout",
          "text": [
            "1.3\n",
            "012\n",
            "0246\n",
            "3\n",
            "1234567\n",
            "7531\n",
            "76543210\n"
          ]
        }
      ]
    },
    {
      "cell_type": "code",
      "source": [
        "print(var[:6:2])"
      ],
      "metadata": {
        "colab": {
          "base_uri": "https://localhost:8080/"
        },
        "id": "6lD9uR3VlRcZ",
        "outputId": "1557c213-25f5-4baa-89cf-7d3c660517f0"
      },
      "execution_count": null,
      "outputs": [
        {
          "output_type": "stream",
          "name": "stdout",
          "text": [
            "024\n"
          ]
        }
      ]
    },
    {
      "cell_type": "markdown",
      "source": [
        "**Immutability**\n",
        "\n",
        "We cannot reassign a part of string upon declaration. Can entirely replace it though."
      ],
      "metadata": {
        "id": "WOm3N2y5nYpY"
      }
    },
    {
      "cell_type": "code",
      "source": [
        "var='abcdef'\n",
        "var=var + 'g'\n",
        "print(var)"
      ],
      "metadata": {
        "colab": {
          "base_uri": "https://localhost:8080/"
        },
        "id": "cT0uc2Wcma_Q",
        "outputId": "a7b28287-83fa-4bfb-f167-0ea624ac2668"
      },
      "execution_count": null,
      "outputs": [
        {
          "output_type": "stream",
          "name": "stdout",
          "text": [
            "abcdefg\n"
          ]
        }
      ]
    },
    {
      "cell_type": "markdown",
      "source": [
        "**Built- In Fns and Methods**"
      ],
      "metadata": {
        "id": "HbChXATyooso"
      }
    },
    {
      "cell_type": "code",
      "source": [
        "string='hello there'\n",
        "print(len(string)) #counting begins from 1\n",
        "\n",
        "print(string[:])\n",
        "print(string[3:len(string)]) #when slicing it starts from 0"
      ],
      "metadata": {
        "colab": {
          "base_uri": "https://localhost:8080/"
        },
        "id": "tNhAdgqlnw38",
        "outputId": "38c80c54-97f7-43cc-b853-e3802da2a9be"
      },
      "execution_count": null,
      "outputs": [
        {
          "output_type": "stream",
          "name": "stdout",
          "text": [
            "11\n",
            "hello there\n",
            "lo there\n"
          ]
        }
      ]
    },
    {
      "cell_type": "markdown",
      "source": [
        "## **NOTE: String length starts from 1 and not 0.**\n"
      ],
      "metadata": {
        "id": "MonFVHUno5Rb"
      }
    },
    {
      "cell_type": "markdown",
      "source": [
        "String Functions\n",
        "* upper()\n",
        "* capitalize()\n",
        "* lower()\n",
        "* find()\n",
        "* replace()- Alterations made are not stored in old string.\n"
      ],
      "metadata": {
        "id": "vO5RhgHXDV-0"
      }
    },
    {
      "cell_type": "code",
      "source": [
        "quote='to be or not to be'\n",
        "print(quote.upper())\n",
        "print(quote.capitalize()) # capitalizes only the first letter\n",
        "print(quote.lower())\n",
        "print(quote.find('be')) # shows the first occurance of 'be'\n",
        "quote_2= quote.replace('be','me')\n",
        "print(quote_2)\n",
        "print(quote) # since strings are immutable, the alterations made in replace() are not stored and hence we can only create or destroy a string.\n",
        "# you can store the altered string in a new string variable\n",
        "\n",
        "quote2=quote.replace('be','you')\n",
        "print(quote2)"
      ],
      "metadata": {
        "colab": {
          "base_uri": "https://localhost:8080/"
        },
        "id": "wZclEyoEo1_T",
        "outputId": "1ade8299-b011-4ba2-eedf-da3f49b7aec7"
      },
      "execution_count": null,
      "outputs": [
        {
          "output_type": "stream",
          "name": "stdout",
          "text": [
            "TO BE OR NOT TO BE\n",
            "To be or not to be\n",
            "to be or not to be\n",
            "3\n",
            "to me or not to me\n",
            "to be or not to be\n",
            "to you or not to you\n"
          ]
        }
      ]
    },
    {
      "cell_type": "markdown",
      "source": [
        "**Boolean**"
      ],
      "metadata": {
        "id": "Lj2A0TShErQs"
      }
    },
    {
      "cell_type": "code",
      "source": [
        "name=input(\"Enter name\")\n",
        "is_cool=False\n",
        "if(name=='AMJ'):\n",
        "  is_cool=True\n",
        "print(is_cool)\n",
        "print(bool(0))\n",
        "print(bool(1))\n",
        "print(bool('true'))"
      ],
      "metadata": {
        "id": "ebSQGBYuqd9h",
        "colab": {
          "base_uri": "https://localhost:8080/"
        },
        "outputId": "71c4a571-9e54-436f-9d56-f216deeac37d"
      },
      "execution_count": null,
      "outputs": [
        {
          "output_type": "stream",
          "name": "stdout",
          "text": [
            "Enter nameAMJ\n",
            "True\n",
            "False\n",
            "True\n",
            "True\n"
          ]
        }
      ]
    },
    {
      "cell_type": "code",
      "source": [
        "birth_yr=int(input(\"Enter year of birth: \"))\n",
        "curr_year=2024\n",
        "age=curr_year-birth_yr\n",
        "print(f\"Age: {age}\")"
      ],
      "metadata": {
        "colab": {
          "base_uri": "https://localhost:8080/"
        },
        "id": "x4wY_a7AEurb",
        "outputId": "d3b6e251-b0b7-4570-b44f-ac4a12687a36"
      },
      "execution_count": null,
      "outputs": [
        {
          "output_type": "stream",
          "name": "stdout",
          "text": [
            "Enter year of birth: 2001\n",
            "Age: 23\n"
          ]
        }
      ]
    },
    {
      "cell_type": "code",
      "source": [
        "birth=input(\"Which year were u born: \")\n",
        "age=2024-float(birth)\n",
        "age2=2024-bool(birth) #2024-1 (True)\n",
        "print(f\"Age is {age} and not {age2}\")"
      ],
      "metadata": {
        "colab": {
          "base_uri": "https://localhost:8080/"
        },
        "id": "hyyV1gCEFsnX",
        "outputId": "67e16616-4abc-4d7c-d027-dcc59d66ea85"
      },
      "execution_count": null,
      "outputs": [
        {
          "output_type": "stream",
          "name": "stdout",
          "text": [
            "Which year were u born: 1997\n",
            "Age is 27.0 and not 2023\n"
          ]
        }
      ]
    },
    {
      "cell_type": "markdown",
      "source": [
        "**Password checker**"
      ],
      "metadata": {
        "id": "pP75YeerGrMk"
      }
    },
    {
      "cell_type": "code",
      "source": [
        "username= input(\"Enter username: \")\n",
        "password= input(\"Enter password: \")\n",
        "pass_length= len(password)\n",
        "hidden_pass= '*'* pass_length\n",
        "print(f\"Hey {username}, your password {hidden_pass}is {pass_length} letters long\")"
      ],
      "metadata": {
        "colab": {
          "base_uri": "https://localhost:8080/"
        },
        "id": "fvExjXGGF2p2",
        "outputId": "d63f9a37-530e-4aa5-fbcf-614e7d77e447"
      },
      "execution_count": null,
      "outputs": [
        {
          "output_type": "stream",
          "name": "stdout",
          "text": [
            "Enter username: user1\n",
            "Enter password: abcdefgh\n",
            "Hey user1, your password ********is 8 letters long\n"
          ]
        }
      ]
    },
    {
      "cell_type": "markdown",
      "source": [
        "**LISTS**\n",
        "* mutable\n",
        "* can alter list items\n",
        "* can be of different datatypes\n"
      ],
      "metadata": {
        "id": "YEMl50qsHs0n"
      }
    },
    {
      "cell_type": "code",
      "source": [
        "l1=[1,2,3,4]\n",
        "l2=['a','b','c']\n",
        "l3=['g',1,2.9,True]\n",
        "print(l3[3])"
      ],
      "metadata": {
        "colab": {
          "base_uri": "https://localhost:8080/"
        },
        "id": "_HTYei4DHHQs",
        "outputId": "a1d5e58c-4fca-49b0-8706-c7b86be49442"
      },
      "execution_count": null,
      "outputs": [
        {
          "output_type": "stream",
          "name": "stdout",
          "text": [
            "True\n"
          ]
        }
      ]
    },
    {
      "cell_type": "markdown",
      "source": [
        "**List Slicing**\n",
        "* slicing is performed in order to create a copy.\n",
        "* in this case, old list is not affected\n",
        "without slicing, whatever alterations are done are stored in the memory of list (val of new_cart will be whatever is stored in memory of amazon_cart)"
      ],
      "metadata": {
        "id": "CEyy2qOHId-8"
      }
    },
    {
      "cell_type": "code",
      "source": [
        "amazon_cart=[\n",
        "    'notebook',\n",
        "    'mobile',\n",
        "    'laptop',\n",
        "    'sunglasses',\n",
        "    'bottle'\n",
        "]\n",
        "\n",
        "\n",
        "print(amazon_cart)\n",
        "print(amazon_cart[0:3])\n",
        "print(amazon_cart[:4:2])"
      ],
      "metadata": {
        "colab": {
          "base_uri": "https://localhost:8080/"
        },
        "id": "1tI3jcMPILoH",
        "outputId": "b10666ed-b628-4f5b-ddd5-952841c89cf8"
      },
      "execution_count": null,
      "outputs": [
        {
          "output_type": "stream",
          "name": "stdout",
          "text": [
            "['notebook', 'mobile', 'laptop', 'sunglasses', 'bottle']\n",
            "['notebook', 'mobile', 'laptop']\n",
            "['notebook', 'laptop']\n"
          ]
        }
      ]
    },
    {
      "cell_type": "code",
      "source": [
        "new_cart= amazon_cart[0:3] # new seperate list\n",
        "new_cart[2]='paintbrush'\n",
        "print(new_cart)\n",
        "print(amazon_cart)"
      ],
      "metadata": {
        "colab": {
          "base_uri": "https://localhost:8080/"
        },
        "id": "Tkp5oOz1I1O3",
        "outputId": "a1d31093-3a7b-4473-92a9-927169417001"
      },
      "execution_count": null,
      "outputs": [
        {
          "output_type": "stream",
          "name": "stdout",
          "text": [
            "['notebook', 'mobile', 'paintbrush']\n",
            "['notebook', 'mobile', 'laptop', 'sunglasses', 'bottle']\n"
          ]
        }
      ]
    },
    {
      "cell_type": "markdown",
      "source": [
        "**MATRIX**"
      ],
      "metadata": {
        "id": "BMQbxa1Lg1U4"
      }
    },
    {
      "cell_type": "code",
      "source": [
        "matrix=[\n",
        "    [1,2,3],\n",
        "    [4,[5,6]],\n",
        "    [7,8,9]\n",
        "]\n",
        "\n",
        "print(matrix[1][1][0])"
      ],
      "metadata": {
        "colab": {
          "base_uri": "https://localhost:8080/"
        },
        "id": "EtGBvzbBLXpa",
        "outputId": "5aaf830d-b953-4a68-cfee-1bd30a365dc0"
      },
      "execution_count": null,
      "outputs": [
        {
          "output_type": "stream",
          "name": "stdout",
          "text": [
            "5\n"
          ]
        }
      ]
    },
    {
      "cell_type": "code",
      "source": [
        "matrix2=[\n",
        "    [2,3,4],\n",
        "    [5,6,[7,[8,9]]]\n",
        "]\n",
        "print(matrix2[1][2][1][1])"
      ],
      "metadata": {
        "colab": {
          "base_uri": "https://localhost:8080/"
        },
        "id": "psFtOcNcjBzM",
        "outputId": "ed3756f5-5961-460c-d2c2-58d85da4599c"
      },
      "execution_count": null,
      "outputs": [
        {
          "output_type": "stream",
          "name": "stdout",
          "text": [
            "9\n"
          ]
        }
      ]
    },
    {
      "cell_type": "markdown",
      "source": [
        "**List** **methods**\n",
        "\n",
        "1. **append(value)**- does not return a value. only appends item in last position. (no copy is created)\n",
        "* To access list, just call listname or assign listname to a new variable and call that. ( either l1 or new_list)\n",
        "* don't assign append to any variable\n",
        "\n",
        "2. **insert(index, value)**- no copy gets created. can insert anywhere in list.\n",
        "3. **extend([list of 1 or more value])**- to join values/lists to end of first list.\n",
        "\n",
        "4. **pop(index)**- when printing l1.pop(), value popped is displayed. (<---when assigned to a value )\n",
        "5. **remove(value)**- value removed\n",
        "6. **clear()**- full list gets emptied.\n",
        "7. **in**- used to check is something is present in the sentence.(eg. word in sentence)\n",
        "8. **index(word,start_index,end_index)**- to find placement of a word and range of index to search in\n",
        "9. **count(word)**- total no. of time present\n",
        "10. **sort()**- modifies the list\n",
        "11. **sorted(list_name)**- creates copy.\n",
        "12. **copy()**- copies entire list\n",
        "13. **reverse()**- reverse of list\n",
        "14. **[::-1]**- reversing. creates a copy\n",
        "**NOTE**: Wherever slicing is performed, a copy of list gets created.\n",
        "15. **range()**- list(range(start,end))\n",
        "16. **join([values])**- 'whatever should appear after each elt is mentioned here in quotation'.join([1,2,3,4])"
      ],
      "metadata": {
        "id": "UBWGKvAHldCS"
      }
    },
    {
      "cell_type": "code",
      "source": [
        "l1=[2,3,4,5,6]\n",
        "new_list= l1.append(20)   #no copy is created # does not return a value for storing. just appends 20 in last position\n",
        "print(new_list)\n",
        "print(l1)"
      ],
      "metadata": {
        "colab": {
          "base_uri": "https://localhost:8080/"
        },
        "id": "CDs5sgVcjY9s",
        "outputId": "484cf248-1e64-4ed4-a86e-f8056833591b"
      },
      "execution_count": null,
      "outputs": [
        {
          "output_type": "stream",
          "name": "stdout",
          "text": [
            "None\n",
            "[2, 3, 4, 5, 6, 20]\n"
          ]
        }
      ]
    },
    {
      "cell_type": "markdown",
      "source": [
        "**CORRECT** **METHOD**"
      ],
      "metadata": {
        "id": "4LJU_VBqnANw"
      }
    },
    {
      "cell_type": "code",
      "source": [
        "#APPEND\n",
        "l1.append(40)\n",
        "new_list=l1\n",
        "new_list[0]=2999\n",
        "print(new_list)\n",
        "print(l1)"
      ],
      "metadata": {
        "colab": {
          "base_uri": "https://localhost:8080/"
        },
        "id": "MP6qb7Xllpre",
        "outputId": "0885ddb4-3c41-4127-c6aa-9ecee65c7050"
      },
      "execution_count": null,
      "outputs": [
        {
          "output_type": "stream",
          "name": "stdout",
          "text": [
            "[2999, 3, 4, 5, 6, 20, 40, 40]\n",
            "[2999, 3, 4, 5, 6, 20, 40, 40]\n"
          ]
        }
      ]
    },
    {
      "cell_type": "code",
      "source": [
        "# INSERT\n",
        "l1.insert(3,70)\n",
        "print(l1)"
      ],
      "metadata": {
        "colab": {
          "base_uri": "https://localhost:8080/"
        },
        "id": "JIk7QAgcmcZa",
        "outputId": "f50b69f0-ec6f-4222-8a31-7e0ff564ce43"
      },
      "execution_count": null,
      "outputs": [
        {
          "output_type": "stream",
          "name": "stdout",
          "text": [
            "[2999, 3, 4, 70, 5, 6, 20, 40, 40]\n"
          ]
        }
      ]
    },
    {
      "cell_type": "code",
      "source": [
        "# EXTEND\n",
        "l1.extend([100,102,103])\n",
        "print(l1)"
      ],
      "metadata": {
        "colab": {
          "base_uri": "https://localhost:8080/"
        },
        "id": "ucW0YjSV1WEg",
        "outputId": "8a456fff-2126-4641-a1d0-41d1596adcbb"
      },
      "execution_count": null,
      "outputs": [
        {
          "output_type": "stream",
          "name": "stdout",
          "text": [
            "[2999, 3, 4, 70, 5, 6, 20, 40, 40, 100, 102, 103]\n"
          ]
        }
      ]
    },
    {
      "cell_type": "code",
      "source": [
        "#POP\n",
        "l1.pop() # last elt\n",
        "print(l1)\n",
        "l1.pop(1)\n",
        "print(l1)\n"
      ],
      "metadata": {
        "colab": {
          "base_uri": "https://localhost:8080/"
        },
        "id": "6bJE7JGY2Cgl",
        "outputId": "173efe9c-2705-4825-feea-4ab77192ea2b"
      },
      "execution_count": null,
      "outputs": [
        {
          "output_type": "stream",
          "name": "stdout",
          "text": [
            "[2999, 3, 4, 70, 5, 6, 20, 40, 40, 100, 102]\n",
            "[2999, 4, 70, 5, 6, 20, 40, 40, 100, 102]\n"
          ]
        }
      ]
    },
    {
      "cell_type": "code",
      "source": [
        "# REMOVE\n",
        "l1.remove(40)\n",
        "print(l1)"
      ],
      "metadata": {
        "colab": {
          "base_uri": "https://localhost:8080/"
        },
        "id": "T0TA0LkH3NGk",
        "outputId": "50f02465-b009-435a-daf9-fcbe55ad06d4"
      },
      "execution_count": null,
      "outputs": [
        {
          "output_type": "stream",
          "name": "stdout",
          "text": [
            "[2999, 4, 70, 5, 6, 20, 40, 100, 102]\n"
          ]
        }
      ]
    },
    {
      "cell_type": "code",
      "source": [
        "#CLEAR\n",
        "l1.clear()\n",
        "print(l1)"
      ],
      "metadata": {
        "colab": {
          "base_uri": "https://localhost:8080/"
        },
        "id": "BLeoT9vQ4fMZ",
        "outputId": "0096fbee-66df-4adc-efa2-5d1ad7fdbca0"
      },
      "execution_count": null,
      "outputs": [
        {
          "output_type": "stream",
          "name": "stdout",
          "text": [
            "[]\n"
          ]
        }
      ]
    },
    {
      "cell_type": "code",
      "source": [
        "basket=['a','b','c','d','e','f']"
      ],
      "metadata": {
        "id": "bJumRBCg4kUK"
      },
      "execution_count": null,
      "outputs": []
    },
    {
      "cell_type": "code",
      "source": [
        "# in\n",
        "\n",
        "print('c' in basket)\n",
        "print('l' in basket)\n",
        "print('are' in 'arey wah yaar')\n"
      ],
      "metadata": {
        "colab": {
          "base_uri": "https://localhost:8080/"
        },
        "id": "Tfxtujl47mXd",
        "outputId": "fceccfe4-b993-42b0-bd19-d105bf10e50b"
      },
      "execution_count": null,
      "outputs": [
        {
          "output_type": "stream",
          "name": "stdout",
          "text": [
            "True\n",
            "False\n",
            "True\n"
          ]
        }
      ]
    },
    {
      "cell_type": "code",
      "source": [
        "# INDEX\n",
        "print(basket.index('f',2,6))"
      ],
      "metadata": {
        "colab": {
          "base_uri": "https://localhost:8080/"
        },
        "id": "inyva0i27f1F",
        "outputId": "0559eb8e-e6fc-4aa1-d697-c07ed5f988f1"
      },
      "execution_count": null,
      "outputs": [
        {
          "output_type": "stream",
          "name": "stdout",
          "text": [
            "5\n"
          ]
        }
      ]
    },
    {
      "cell_type": "code",
      "source": [
        "sent=\"wah arey yaar arey\"\n",
        "print(sent.index(\"arey\")) #beg of arey ('a')"
      ],
      "metadata": {
        "colab": {
          "base_uri": "https://localhost:8080/"
        },
        "id": "X8Re-8Q08A_v",
        "outputId": "16acea62-7497-408c-a896-73a498a20612"
      },
      "execution_count": null,
      "outputs": [
        {
          "output_type": "stream",
          "name": "stdout",
          "text": [
            "4\n"
          ]
        }
      ]
    },
    {
      "cell_type": "code",
      "source": [
        "# COUNT\n",
        "print(sent.count('a'))\n",
        "print(sent.count('arey'))"
      ],
      "metadata": {
        "colab": {
          "base_uri": "https://localhost:8080/"
        },
        "id": "ft_zLbcc8b7s",
        "outputId": "c4950838-1746-4ab7-d25a-ba74e04012b8"
      },
      "execution_count": null,
      "outputs": [
        {
          "output_type": "stream",
          "name": "stdout",
          "text": [
            "5\n",
            "2\n"
          ]
        }
      ]
    },
    {
      "cell_type": "code",
      "source": [
        "# SORT\n",
        "sent=['a','f','e','b','q','l','b']\n",
        "\n",
        "sent.sort() # modifies the string\n",
        "print(sent)"
      ],
      "metadata": {
        "colab": {
          "base_uri": "https://localhost:8080/"
        },
        "id": "zkSXYnNm8r1k",
        "outputId": "df7af429-d666-4ce6-f436-8e20532ccf00"
      },
      "execution_count": null,
      "outputs": [
        {
          "output_type": "stream",
          "name": "stdout",
          "text": [
            "['a', 'b', 'b', 'e', 'f', 'l', 'q']\n"
          ]
        }
      ]
    },
    {
      "cell_type": "code",
      "source": [
        "# SORTED FN\n",
        "words=['r','a','t','w','j']\n",
        "print(sorted(words)) # creates a copy # slicing and then sort()\n",
        "print(words)"
      ],
      "metadata": {
        "colab": {
          "base_uri": "https://localhost:8080/"
        },
        "id": "PHiEHvNTeFMV",
        "outputId": "13bfe081-9330-4e13-dfc0-499718652f9b"
      },
      "execution_count": null,
      "outputs": [
        {
          "output_type": "stream",
          "name": "stdout",
          "text": [
            "['a', 'j', 'r', 't', 'w']\n",
            "['r', 'a', 't', 'w', 'j']\n"
          ]
        }
      ]
    },
    {
      "cell_type": "code",
      "source": [
        "# COPY\n",
        "new=words.copy() # plainly copy list\n",
        "print(new)\n"
      ],
      "metadata": {
        "colab": {
          "base_uri": "https://localhost:8080/"
        },
        "id": "iWBOQsT5e87Q",
        "outputId": "0ba368dc-12fe-4ea4-e3f4-5f3e08bff164"
      },
      "execution_count": null,
      "outputs": [
        {
          "output_type": "stream",
          "name": "stdout",
          "text": [
            "['r', 'a', 't', 'w', 'j']\n"
          ]
        }
      ]
    },
    {
      "cell_type": "code",
      "source": [
        "# REVERSE\n",
        "words.sort()\n",
        "words.reverse()\n",
        "print(words)"
      ],
      "metadata": {
        "colab": {
          "base_uri": "https://localhost:8080/"
        },
        "id": "6N6aHWz7fQRr",
        "outputId": "d208c3e0-e321-4039-8fcf-e1472a2b13a9"
      },
      "execution_count": null,
      "outputs": [
        {
          "output_type": "stream",
          "name": "stdout",
          "text": [
            "['w', 't', 'r', 'j', 'a']\n"
          ]
        }
      ]
    },
    {
      "cell_type": "code",
      "source": [
        "list4=['b','d','c','w','k']\n",
        "print(list4[::-1]) # copy gets created\n",
        "print(list4) # not affected"
      ],
      "metadata": {
        "colab": {
          "base_uri": "https://localhost:8080/"
        },
        "id": "KfZRexGZfje_",
        "outputId": "60665b81-8cfc-4eff-a653-e47984d2b2bb"
      },
      "execution_count": null,
      "outputs": [
        {
          "output_type": "stream",
          "name": "stdout",
          "text": [
            "['k', 'w', 'c', 'd', 'b']\n",
            "['b', 'd', 'c', 'w', 'k']\n"
          ]
        }
      ]
    },
    {
      "cell_type": "code",
      "source": [
        "# RANGE\n",
        "print(list(range(1,100)))\n",
        "print(list(range(100)))"
      ],
      "metadata": {
        "id": "wriRgqi0iqCZ",
        "outputId": "a91d4c28-e111-44b5-9578-931e6e04f93b",
        "colab": {
          "base_uri": "https://localhost:8080/"
        }
      },
      "execution_count": null,
      "outputs": [
        {
          "output_type": "stream",
          "name": "stdout",
          "text": [
            "[1, 2, 3, 4, 5, 6, 7, 8, 9, 10, 11, 12, 13, 14, 15, 16, 17, 18, 19, 20, 21, 22, 23, 24, 25, 26, 27, 28, 29, 30, 31, 32, 33, 34, 35, 36, 37, 38, 39, 40, 41, 42, 43, 44, 45, 46, 47, 48, 49, 50, 51, 52, 53, 54, 55, 56, 57, 58, 59, 60, 61, 62, 63, 64, 65, 66, 67, 68, 69, 70, 71, 72, 73, 74, 75, 76, 77, 78, 79, 80, 81, 82, 83, 84, 85, 86, 87, 88, 89, 90, 91, 92, 93, 94, 95, 96, 97, 98, 99]\n",
            "[0, 1, 2, 3, 4, 5, 6, 7, 8, 9, 10, 11, 12, 13, 14, 15, 16, 17, 18, 19, 20, 21, 22, 23, 24, 25, 26, 27, 28, 29, 30, 31, 32, 33, 34, 35, 36, 37, 38, 39, 40, 41, 42, 43, 44, 45, 46, 47, 48, 49, 50, 51, 52, 53, 54, 55, 56, 57, 58, 59, 60, 61, 62, 63, 64, 65, 66, 67, 68, 69, 70, 71, 72, 73, 74, 75, 76, 77, 78, 79, 80, 81, 82, 83, 84, 85, 86, 87, 88, 89, 90, 91, 92, 93, 94, 95, 96, 97, 98, 99]\n"
          ]
        }
      ]
    },
    {
      "cell_type": "code",
      "source": [
        "# JOIN\n",
        "sentence=' '.join(['Hello','there','I','am','Lola']) # inside '' whatever is mentioned will appear after each elt in list\n",
        "print(sentence)"
      ],
      "metadata": {
        "id": "-m9_Pl5ajAll",
        "outputId": "2e15fe1e-edc6-4554-fd0b-8b31c262e81d",
        "colab": {
          "base_uri": "https://localhost:8080/"
        }
      },
      "execution_count": null,
      "outputs": [
        {
          "output_type": "stream",
          "name": "stdout",
          "text": [
            "Hello there I am Lola\n"
          ]
        }
      ]
    },
    {
      "cell_type": "markdown",
      "source": [
        "# **List unpacking**\n",
        "#### NOTE: Use * to group remaining items in a list."
      ],
      "metadata": {
        "id": "3gc1xWE5lKsb"
      }
    },
    {
      "cell_type": "code",
      "source": [
        "a,b,c,*any,d,e=[1,2,3,4,5,6,7,8,9]\n",
        "print(a)\n",
        "print(b)\n",
        "print(c)\n",
        "print(any) # to grp elts of a list under one variable use *\n",
        "print(d)\n",
        "print(e)"
      ],
      "metadata": {
        "id": "UCW6duXwjtTt",
        "outputId": "53d0393a-f704-46fd-df8e-1c6c5a4e2740",
        "colab": {
          "base_uri": "https://localhost:8080/"
        }
      },
      "execution_count": null,
      "outputs": [
        {
          "output_type": "stream",
          "name": "stdout",
          "text": [
            "1\n",
            "2\n",
            "3\n",
            "[4, 5, 6, 7]\n",
            "8\n",
            "9\n"
          ]
        }
      ]
    },
    {
      "cell_type": "code",
      "source": [
        "counter = 0\n",
        "\n",
        "counter += 1\n",
        "counter += 1\n",
        "counter += 1\n",
        "counter += 1\n",
        "counter -= 1\n",
        "counter *= 2\n",
        "\n",
        "print(counter) #what will this print?\n"
      ],
      "metadata": {
        "id": "uYKXmaIblcJu",
        "outputId": "f26252e3-dd5a-4eba-939f-76147e12f7be",
        "colab": {
          "base_uri": "https://localhost:8080/"
        }
      },
      "execution_count": null,
      "outputs": [
        {
          "output_type": "stream",
          "name": "stdout",
          "text": [
            "6\n"
          ]
        }
      ]
    },
    {
      "cell_type": "code",
      "source": [
        "python = 'I am PYTHON'\n",
        "\n",
        "print(python[1:4]) #am\n",
        "print(python[1:])# am PYTHON\n",
        "print(python[:]) #full\n",
        "print(python[1:100]) # am python\n",
        "print(python[-1]) #N\n",
        "print(python[-4])#T\n",
        "print(python[:-3])#I am PYT\n",
        "print(python[-3:]) #HON\n",
        "print(python[::-1]) #NOhtyp ma i"
      ],
      "metadata": {
        "id": "POouuEo9pPPI",
        "outputId": "332431c3-e37e-4f86-c4e1-fad0fbc326b1",
        "colab": {
          "base_uri": "https://localhost:8080/"
        }
      },
      "execution_count": null,
      "outputs": [
        {
          "output_type": "stream",
          "name": "stdout",
          "text": [
            " am\n",
            " am PYTHON\n",
            "I am PYTHON\n",
            " am PYTHON\n",
            "N\n",
            "T\n",
            "I am PYT\n",
            "HON\n",
            "NOHTYP ma I\n"
          ]
        }
      ]
    },
    {
      "cell_type": "code",
      "source": [
        "\n",
        "new_list = ['a', 'b', 'c']\n",
        "print(new_list[1])\n",
        "print(new_list[-2])\n",
        "print(new_list[1:3])\n",
        "new_list[0] = 'z'\n",
        "print(new_list)\n",
        "\n",
        "my_list = [1,2,3]\n",
        "bonus = my_list + [5]\n",
        "my_list[0] = 'z'\n",
        "print(my_list)\n",
        "print(bonus)"
      ],
      "metadata": {
        "id": "jQRU5VVFp7HH",
        "outputId": "3538aaf2-bde3-4a9e-d1bf-85387acbbf5d",
        "colab": {
          "base_uri": "https://localhost:8080/"
        }
      },
      "execution_count": null,
      "outputs": [
        {
          "output_type": "stream",
          "name": "stdout",
          "text": [
            "b\n",
            "b\n",
            "['b', 'c']\n",
            "['z', 'b', 'c']\n",
            "['z', 2, 3]\n",
            "[1, 2, 3, 5]\n"
          ]
        }
      ]
    },
    {
      "cell_type": "code",
      "source": [
        "friends = ['Simon', 'Patty', 'Joy', 'Carrie', 'Amira', 'Chu']\n",
        "\n",
        "new_friend = ['Stanley']\n",
        "friends.extend(new_friend)\n",
        "\n",
        "print(sorted(friends))\n",
        "\n",
        "\n"
      ],
      "metadata": {
        "id": "twAai4w8rnfc",
        "outputId": "968f531a-1ca3-4d5d-a8ba-67cd3400674f",
        "colab": {
          "base_uri": "https://localhost:8080/"
        }
      },
      "execution_count": null,
      "outputs": [
        {
          "output_type": "stream",
          "name": "stdout",
          "text": [
            "['Amira', 'Carrie', 'Chu', 'Joy', 'Patty', 'Simon', 'Stanley']\n"
          ]
        }
      ]
    },
    {
      "cell_type": "code",
      "source": [],
      "metadata": {
        "id": "JYrzpY4VsPX7"
      },
      "execution_count": null,
      "outputs": []
    },
    {
      "cell_type": "markdown",
      "source": [
        "# **Dictionary**\n",
        "* Unordered key-value pairs (order of insertion may not be same as order of output)\n",
        "* Accessing: **dict_name[key**]\n",
        "## **KEYS**\n",
        "\n",
        "* Keys can be of any datatype that is **immutable** (no list)(can be int, string, bool, tuple)\n",
        "* Keys must be **unique**(same key having diff value gets **overwritten**)\n",
        "* .get(key,default value)- checks if a value for the key exists, else use default value\n",
        "\n"
      ],
      "metadata": {
        "id": "1a0pwfneGiNe"
      }
    },
    {
      "cell_type": "code",
      "source": [
        "dictionary={\n",
        "    'a':1,\n",
        "    'b':2,\n",
        "    'c':3\n",
        "}\n",
        "\n",
        "print(dictionary['c'])\n",
        "print(dictionary) # very large no. of k:v pairs, maybe be unordered"
      ],
      "metadata": {
        "colab": {
          "base_uri": "https://localhost:8080/"
        },
        "id": "fDI14UW4GmLn",
        "outputId": "f3e1ad6e-5cf3-4e4a-a12a-9fba5d2a24d3"
      },
      "execution_count": null,
      "outputs": [
        {
          "output_type": "stream",
          "name": "stdout",
          "text": [
            "3\n",
            "{'a': 1, 'b': 2, 'c': 3}\n"
          ]
        }
      ]
    },
    {
      "cell_type": "code",
      "source": [
        "dict_1={\n",
        "    'a':[1,[\"yo\",True],4],\n",
        "    'b': 'anyo',\n",
        "    'c': False\n",
        "}\n",
        "print(dict_1['a'][1][0])"
      ],
      "metadata": {
        "colab": {
          "base_uri": "https://localhost:8080/"
        },
        "id": "PO1YvYzVHa0u",
        "outputId": "b0583056-f172-4902-c3e0-f87502aac91d"
      },
      "execution_count": null,
      "outputs": [
        {
          "output_type": "stream",
          "name": "stdout",
          "text": [
            "yo\n"
          ]
        }
      ]
    },
    {
      "cell_type": "code",
      "source": [
        "list_1=[\n",
        "     {\n",
        "    'a':[1,[\"yo\",True],4],\n",
        "    'b': 'anyo',\n",
        "    'c': False\n",
        "},\n",
        "     {\n",
        "    'a':[1,[\"wassup\",True],4],\n",
        "    'b': 'anyo',\n",
        "    'c': False\n",
        "     }\n",
        "]\n",
        "print(list_1[1]['a'][1][0])"
      ],
      "metadata": {
        "colab": {
          "base_uri": "https://localhost:8080/"
        },
        "id": "BpudfXosJfd-",
        "outputId": "5da0cb39-ad0e-4403-9670-0a13b8cb5360"
      },
      "execution_count": null,
      "outputs": [
        {
          "output_type": "stream",
          "name": "stdout",
          "text": [
            "wassup\n"
          ]
        }
      ]
    },
    {
      "cell_type": "code",
      "source": [
        "# KEYS\n",
        "\n",
        "dict_1={\n",
        "    12:[1,'act',3],\n",
        "    43.5:'yo',\n",
        "    'u':'String bruh',\n",
        "    12:'oh no' #got overwritten\n",
        "}\n",
        "print(dict_1)\n",
        "print(dict_1[43.5])"
      ],
      "metadata": {
        "colab": {
          "base_uri": "https://localhost:8080/"
        },
        "id": "vDuoKmWgKDZ2",
        "outputId": "a1c01237-4d2f-4c41-bc45-35e299d59ccf"
      },
      "execution_count": null,
      "outputs": [
        {
          "output_type": "stream",
          "name": "stdout",
          "text": [
            "{12: 'oh no', 43.5: 'yo', 'u': 'String bruh'}\n",
            "yo\n"
          ]
        }
      ]
    },
    {
      "cell_type": "code",
      "source": [
        "#.get method\n",
        "user={\n",
        "    'basket': [1,[4,2],3],\n",
        "    'greet': 'hey there',\n",
        "    'age':89\n",
        "}\n",
        "print(user.get('age',29))"
      ],
      "metadata": {
        "colab": {
          "base_uri": "https://localhost:8080/"
        },
        "id": "aqMxUJrnf3yA",
        "outputId": "d28bf7e7-b8e0-4371-ebfa-f37425f42f88"
      },
      "execution_count": 10,
      "outputs": [
        {
          "output_type": "stream",
          "name": "stdout",
          "text": [
            "89\n"
          ]
        }
      ]
    },
    {
      "cell_type": "markdown",
      "source": [
        "* Alternative way to create a dictionary\n",
        "dict( key='value')\n",
        "* when printing use ' ' for key. (eg. dict_1['age'])\n",
        "\n",
        "\n",
        "\n",
        "\n",
        "\n",
        "\n"
      ],
      "metadata": {
        "id": "WKlxxrQgkpcG"
      }
    },
    {
      "cell_type": "code",
      "source": [
        "# ALTERNATIVE WAY TO CREATE A DICTIONARY\n",
        "user2= dict(age=55,name='AJ')\n",
        "print(user2['age'])\n",
        "print(user2)\n",
        "\n"
      ],
      "metadata": {
        "colab": {
          "base_uri": "https://localhost:8080/"
        },
        "id": "M-LZuPZGhcnc",
        "outputId": "515175e9-14cc-47e2-9b45-2e4eecec6497"
      },
      "execution_count": 3,
      "outputs": [
        {
          "output_type": "stream",
          "name": "stdout",
          "text": [
            "55\n",
            "{'age': 55, 'name': 'AJ'}\n"
          ]
        }
      ]
    },
    {
      "cell_type": "code",
      "source": [
        "print('greet' in user)\n",
        "print('fruit' in user)"
      ],
      "metadata": {
        "id": "nOtMVoP6pcRg",
        "outputId": "bb33b75b-1097-4ff9-b8a0-1e449944215f",
        "colab": {
          "base_uri": "https://localhost:8080/"
        }
      },
      "execution_count": 4,
      "outputs": [
        {
          "output_type": "stream",
          "name": "stdout",
          "text": [
            "True\n",
            "False\n"
          ]
        }
      ]
    },
    {
      "cell_type": "markdown",
      "source": [
        "Dictionary Methods\n",
        "\n",
        "1. dict_name**.get(key, default_value)**\n",
        "2. in dict_name.**keys()**- checks if such a key exists\n",
        "3. in dict_name.**values()**- checks if such a value exists\n",
        "4. dict_name.**items()**- tuple form (key, value) (' ' for string)\n",
        "5. **clear()**\n",
        "6. **copy()**\n",
        "7. **pop('key')**- Upon printing, it returns value of popped key.\n",
        "8. **popitem()**- removes last key:value pair and prints the tuple removed. Useful to **destructively iterate** over a dictionary.\n",
        "9. **update({key:value})**- updates that particular key's value to the given value. If a new key is assigned a value, that tuple also gets added to the list."
      ],
      "metadata": {
        "id": "qRRvmdMi8dDN"
      }
    },
    {
      "cell_type": "code",
      "source": [
        "print('greet' in user.keys())\n",
        "print([1,[4,2],3] in user.values())\n",
        "print([4,2] in user.values())\n",
        "print(('greet', 'hey there') in user.items())\n",
        "print(user.items())"
      ],
      "metadata": {
        "id": "rrBxr0q18KoB",
        "outputId": "af74fb35-de37-4a36-cbb6-eddc977eac5b",
        "colab": {
          "base_uri": "https://localhost:8080/"
        }
      },
      "execution_count": 5,
      "outputs": [
        {
          "output_type": "stream",
          "name": "stdout",
          "text": [
            "True\n",
            "True\n",
            "False\n",
            "True\n",
            "dict_items([('basket', [1, [4, 2], 3]), ('greet', 'hey there'), ('age', 89)])\n"
          ]
        }
      ]
    },
    {
      "cell_type": "code",
      "source": [
        "#CLEAR doesn't return a value\n",
        "user3=user2.copy()\n",
        "user2.clear() #o/p: None\n",
        "print(user2) # {}\n",
        "print(user3)"
      ],
      "metadata": {
        "id": "DdOmoM9H-Fxh",
        "outputId": "5d40d1cf-0984-45af-c54b-630415d86fc7",
        "colab": {
          "base_uri": "https://localhost:8080/"
        }
      },
      "execution_count": 6,
      "outputs": [
        {
          "output_type": "stream",
          "name": "stdout",
          "text": [
            "{}\n",
            "{'age': 55, 'name': 'AJ'}\n"
          ]
        }
      ]
    },
    {
      "cell_type": "code",
      "source": [
        "user={\n",
        "    'basket': [1,[4,2],3],\n",
        "    'greet': 'hey there',\n",
        "    'age':89\n",
        "}\n",
        "print(user.pop('basket'))\n",
        "print(user)"
      ],
      "metadata": {
        "id": "ofbF8vPU-1sC",
        "colab": {
          "base_uri": "https://localhost:8080/"
        },
        "outputId": "ec9b9028-165d-4cdc-af91-f7676692acc6"
      },
      "execution_count": 18,
      "outputs": [
        {
          "output_type": "stream",
          "name": "stdout",
          "text": [
            "[1, [4, 2], 3]\n",
            "{'greet': 'hey there', 'age': 89}\n"
          ]
        }
      ]
    },
    {
      "cell_type": "code",
      "source": [
        "print(user.popitem()) # prints tuple removed\n",
        "print(user)"
      ],
      "metadata": {
        "colab": {
          "base_uri": "https://localhost:8080/"
        },
        "id": "RXmcWvP-1IcF",
        "outputId": "21f11a2c-cbd0-4ef2-b168-284b1362e263"
      },
      "execution_count": 19,
      "outputs": [
        {
          "output_type": "stream",
          "name": "stdout",
          "text": [
            "('age', 89)\n",
            "{'greet': 'hey there'}\n"
          ]
        }
      ]
    },
    {
      "cell_type": "code",
      "source": [
        "user={\n",
        "    'basket': [1,[4,2],3],\n",
        "    'greet': 'hey there',\n",
        "    'age':89\n",
        "}\n",
        "\n",
        "print(user.update({'greet':'anyo'}))\n",
        "print(user.update({'branch':'cse'})) # adds it to the dictionary\n",
        "print(user)"
      ],
      "metadata": {
        "colab": {
          "base_uri": "https://localhost:8080/"
        },
        "id": "BvP_6Ay42Otx",
        "outputId": "1910f68f-b8de-4c8f-8047-401a79a44cc0"
      },
      "execution_count": 26,
      "outputs": [
        {
          "output_type": "stream",
          "name": "stdout",
          "text": [
            "None\n",
            "None\n",
            "{'basket': [1, [4, 2], 3], 'greet': 'anyo', 'age': 89, 'branch': 'cse'}\n"
          ]
        }
      ]
    },
    {
      "cell_type": "markdown",
      "source": [
        "# **TUPLES**"
      ],
      "metadata": {
        "id": "NuWo65Ti4_4f"
      }
    },
    {
      "cell_type": "markdown",
      "source": [
        "* Immutable lists\n",
        "*  Cannot modify elts in a tuple upon declaration. (cannot bperform item assignement, sort,reverse etc.)\n",
        "* Can print, access elts, check if an elt is present in tuple. (via indices)\n",
        "* valid key in a dict\n",
        "\n"
      ],
      "metadata": {
        "id": "j_USYr0N5Glo"
      }
    },
    {
      "cell_type": "code",
      "source": [
        "my_tuple=('sorr',1,True)\n",
        "print(my_tuple)"
      ],
      "metadata": {
        "colab": {
          "base_uri": "https://localhost:8080/"
        },
        "id": "LteDjSuv3YxH",
        "outputId": "d2aae1c5-d797-4d70-cf62-2ef030961678"
      },
      "execution_count": 27,
      "outputs": [
        {
          "output_type": "stream",
          "name": "stdout",
          "text": [
            "('sorr', 1, True)\n"
          ]
        }
      ]
    },
    {
      "cell_type": "code",
      "source": [
        "#my_tuple[1]=2 # not possible\n",
        "print(my_tuple[0])"
      ],
      "metadata": {
        "colab": {
          "base_uri": "https://localhost:8080/"
        },
        "id": "8A3jaEmR4_B1",
        "outputId": "30f07e31-c75f-42c9-d2c6-79eab20919ab"
      },
      "execution_count": 31,
      "outputs": [
        {
          "output_type": "stream",
          "name": "stdout",
          "text": [
            "sorr\n"
          ]
        }
      ]
    },
    {
      "cell_type": "code",
      "source": [
        "print(1 in my_tuple)\n",
        "print(23 in my_tuple)\n"
      ],
      "metadata": {
        "colab": {
          "base_uri": "https://localhost:8080/"
        },
        "id": "rtbEU2vQ4_EX",
        "outputId": "f3f2c843-343e-402b-91e5-ff72d0b42c3a"
      },
      "execution_count": 35,
      "outputs": [
        {
          "output_type": "stream",
          "name": "stdout",
          "text": [
            "True\n",
            "False\n"
          ]
        }
      ]
    },
    {
      "cell_type": "code",
      "source": [
        "user={\n",
        "    (1,2,3): [1,[4,2],3], # tuple can be used as a key\n",
        "    'greet': 'hey there',\n",
        "    'age':89\n",
        "}\n",
        "print(user[(1,2,3)])"
      ],
      "metadata": {
        "colab": {
          "base_uri": "https://localhost:8080/"
        },
        "id": "jvBYNKFE4_HD",
        "outputId": "dce1e8f2-d0e9-4077-d15c-55daf8e0e25b"
      },
      "execution_count": 38,
      "outputs": [
        {
          "output_type": "stream",
          "name": "stdout",
          "text": [
            "[1, [4, 2], 3]\n"
          ]
        }
      ]
    },
    {
      "cell_type": "code",
      "source": [
        "tup_1=(1,2,3,4,5)\n",
        "new_tup=tup_1[1:2] # comma comes for single elts\n",
        "print(new_tup)"
      ],
      "metadata": {
        "colab": {
          "base_uri": "https://localhost:8080/"
        },
        "id": "AA1ohiRk4_Jo",
        "outputId": "66118be8-c29d-443b-dab8-a56b69e829cd"
      },
      "execution_count": 42,
      "outputs": [
        {
          "output_type": "stream",
          "name": "stdout",
          "text": [
            "(2,)\n"
          ]
        }
      ]
    },
    {
      "cell_type": "code",
      "source": [
        "new_tup=tup_1[1:3]\n",
        "print(new_tup)"
      ],
      "metadata": {
        "colab": {
          "base_uri": "https://localhost:8080/"
        },
        "id": "Xb6fOCKR4_NP",
        "outputId": "4e48fd9b-bac0-4ffb-dd46-309638bf8f5d"
      },
      "execution_count": 45,
      "outputs": [
        {
          "output_type": "stream",
          "name": "stdout",
          "text": [
            "(2, 3)\n"
          ]
        }
      ]
    },
    {
      "cell_type": "code",
      "source": [
        "# x=tup_1[0]\n",
        "# y=tup_1[2]\n",
        "# z=x+y\n",
        "# print(z)"
      ],
      "metadata": {
        "colab": {
          "base_uri": "https://localhost:8080/"
        },
        "id": "zjLTL9JM8bD7",
        "outputId": "ace164ef-a270-4241-b6c0-742d1abe6cc4"
      },
      "execution_count": 46,
      "outputs": [
        {
          "output_type": "stream",
          "name": "stdout",
          "text": [
            "4\n"
          ]
        }
      ]
    },
    {
      "cell_type": "code",
      "source": [
        "x,*other,y,z=(1,2,3,4,5)\n",
        "print(other)"
      ],
      "metadata": {
        "colab": {
          "base_uri": "https://localhost:8080/"
        },
        "id": "JUywmF5F8nIl",
        "outputId": "09c177e2-97e7-434d-9eb0-af3424c612a7"
      },
      "execution_count": 48,
      "outputs": [
        {
          "output_type": "stream",
          "name": "stdout",
          "text": [
            "[2, 3]\n"
          ]
        }
      ]
    },
    {
      "cell_type": "markdown",
      "source": [
        "# **Tuple Methods**\n",
        "* **count('value')**\n",
        "* **index('value')**\n",
        "* **len(tuple_name)**"
      ],
      "metadata": {
        "id": "T7b11HKS9sxw"
      }
    },
    {
      "cell_type": "code",
      "source": [
        "my_tup=(3,4,5,5,5,5,7)\n",
        "print(my_tup.count(5))\n",
        "print(my_tup.index(5))\n",
        "print(len(my_tup))"
      ],
      "metadata": {
        "colab": {
          "base_uri": "https://localhost:8080/"
        },
        "id": "Dn3f3D4M8-NP",
        "outputId": "610d6894-c728-44f5-c0d1-4d1654e12de3"
      },
      "execution_count": 50,
      "outputs": [
        {
          "output_type": "stream",
          "name": "stdout",
          "text": [
            "4\n",
            "2\n",
            "7\n"
          ]
        }
      ]
    },
    {
      "cell_type": "markdown",
      "source": [
        "**Datatypes**\n",
        "* None\n",
        "* bool\n",
        "* int\n",
        "* float\n",
        "* str\n",
        "* list\n",
        "* tuple\n",
        "* dict\n",
        "* set"
      ],
      "metadata": {
        "id": "V9EpUYFl-eH4"
      }
    },
    {
      "cell_type": "markdown",
      "source": [
        "# **SETS**\n",
        "\n",
        "Unordered collections of unique objects.\n",
        "* no duplicates are present.\n",
        "* cannot access values via indexing.\n",
        "* Hence, to check if a valu is present use **\"in\"**"
      ],
      "metadata": {
        "id": "O-0PAokRAAvN"
      }
    },
    {
      "cell_type": "markdown",
      "source": [
        "**Set methods**\n",
        "1. **add(value)**\n",
        "2. **len(set_name)** # FN\n",
        "3. **copy()**\n",
        "4. **clear()**\n",
        "5. **IN**"
      ],
      "metadata": {
        "id": "iZDzBelAEocR"
      }
    },
    {
      "cell_type": "code",
      "source": [
        "my_list=[1,2,3,4,5,5]\n",
        "print(set(my_list))"
      ],
      "metadata": {
        "colab": {
          "base_uri": "https://localhost:8080/"
        },
        "id": "sRCBINwp-vK6",
        "outputId": "abe88f46-1142-4d37-e5ee-7995e54d7b02"
      },
      "execution_count": 52,
      "outputs": [
        {
          "output_type": "stream",
          "name": "stdout",
          "text": [
            "{1, 2, 3, 4, 5}\n"
          ]
        }
      ]
    },
    {
      "cell_type": "code",
      "source": [
        "my_set={3,2,4,2,10,5,'boohoo','alia',1}\n",
        "print(my_set)"
      ],
      "metadata": {
        "colab": {
          "base_uri": "https://localhost:8080/"
        },
        "id": "hSDDILQh_gDK",
        "outputId": "7a63ddff-53c7-4dc5-ec7b-f954a5d0b213"
      },
      "execution_count": 59,
      "outputs": [
        {
          "output_type": "stream",
          "name": "stdout",
          "text": [
            "{1, 2, 3, 4, 5, 'alia', 10, 'boohoo'}\n"
          ]
        }
      ]
    },
    {
      "cell_type": "code",
      "source": [
        "my_set.add(90)\n",
        "my_set.add(2)\n",
        "print(my_set)"
      ],
      "metadata": {
        "colab": {
          "base_uri": "https://localhost:8080/"
        },
        "id": "qzyGRVMZ_gGU",
        "outputId": "00048e9e-e2a0-4ee5-a0e4-59f9cf29fbc6"
      },
      "execution_count": 61,
      "outputs": [
        {
          "output_type": "stream",
          "name": "stdout",
          "text": [
            "{1, 2, 3, 4, 5, 'alia', 10, 'boohoo', 90}\n"
          ]
        }
      ]
    },
    {
      "cell_type": "code",
      "source": [
        "#print(my_set[3]) # wrong"
      ],
      "metadata": {
        "id": "Tf14FT92_gJ8"
      },
      "execution_count": 66,
      "outputs": []
    },
    {
      "cell_type": "code",
      "source": [
        "print('boohoo' in my_set)\n",
        "print(95 in my_set)"
      ],
      "metadata": {
        "colab": {
          "base_uri": "https://localhost:8080/"
        },
        "id": "y-gcz_q2Diep",
        "outputId": "7851c5d3-a8fb-4149-958a-4d4c2f80e11c"
      },
      "execution_count": 65,
      "outputs": [
        {
          "output_type": "stream",
          "name": "stdout",
          "text": [
            "True\n",
            "False\n"
          ]
        }
      ]
    },
    {
      "cell_type": "code",
      "source": [
        "print(len(my_set))\n",
        "print(list(my_set))"
      ],
      "metadata": {
        "colab": {
          "base_uri": "https://localhost:8080/"
        },
        "id": "KxeTfDhFD0S-",
        "outputId": "87f5c613-fa90-4b8e-cc79-e527f0e59e6a"
      },
      "execution_count": 68,
      "outputs": [
        {
          "output_type": "stream",
          "name": "stdout",
          "text": [
            "9\n",
            "[1, 2, 3, 4, 5, 'alia', 10, 'boohoo', 90]\n"
          ]
        }
      ]
    },
    {
      "cell_type": "code",
      "source": [
        "set_2=my_set.copy()\n",
        "my_set.clear()\n",
        "print(my_set)\n",
        "print(set_2)"
      ],
      "metadata": {
        "colab": {
          "base_uri": "https://localhost:8080/"
        },
        "id": "z1DfVo47DzNp",
        "outputId": "d3826761-fa54-4b2a-ba35-e8e947aabf0e"
      },
      "execution_count": 69,
      "outputs": [
        {
          "output_type": "stream",
          "name": "stdout",
          "text": [
            "set()\n",
            "{1, 2, 3, 4, 5, 'alia', 10, 'boohoo', 90}\n"
          ]
        }
      ]
    },
    {
      "cell_type": "markdown",
      "source": [
        "# **CONVERSION**\n",
        "\n",
        "list to set =>  eg. my_list=[1,2,3,4,5]\n",
        "print(set(my_list))\n",
        "\n",
        "and vice versa for all other datatypes\n",
        "\n",
        ""
      ],
      "metadata": {
        "id": "ngnYwDP5EuVK"
      }
    },
    {
      "cell_type": "markdown",
      "source": [
        "# **MORE METHODS**\n",
        "6. **set1.difference(set2)**- elts present in set 1 but not in set2. Set does not get modified and only the difference is shown.\n",
        "7. set_name.**discard(value)**- discards value from that set.\n",
        "8. **set1.difference_update(set2)**- values common to bothe sets are removed and set1 gets modified with remaining unique values.\n",
        "9. **set1.intersection(set2)** or **(set1 & set2)**\n",
        "10. **set1.union(set2)** or **(set1 | set2)**\n",
        "11. **isdisjoint()**- True is no common vals are present in both sets.\n",
        "12. **issubset()**\n",
        "13. **issuperset()**"
      ],
      "metadata": {
        "id": "C1KYIPWOGaih"
      }
    },
    {
      "cell_type": "code",
      "source": [
        "my_set={1,2,3,4,5}\n",
        "your_set={4,5,6,7,8,9}\n",
        "some_set={11,24}\n",
        "another_set={2,3}"
      ],
      "metadata": {
        "id": "VUOx-jncEjjQ"
      },
      "execution_count": 98,
      "outputs": []
    },
    {
      "cell_type": "code",
      "source": [
        "#DIFFERENCE\n",
        "print(my_set.difference(your_set))\n",
        "print(my_set)\n"
      ],
      "metadata": {
        "colab": {
          "base_uri": "https://localhost:8080/"
        },
        "id": "L4jiNkASE_U-",
        "outputId": "121d327c-bfd3-4ff2-e9de-ceed45b11f9e"
      },
      "execution_count": 85,
      "outputs": [
        {
          "output_type": "stream",
          "name": "stdout",
          "text": [
            "{1, 2, 3}\n",
            "{1, 2, 3, 4, 5}\n"
          ]
        }
      ]
    },
    {
      "cell_type": "code",
      "source": [
        "#DIFFERENCE_UPDATE\n",
        "my_set.difference_update(your_set)\n",
        "print(my_set) # list got modified\n",
        "\n"
      ],
      "metadata": {
        "colab": {
          "base_uri": "https://localhost:8080/"
        },
        "id": "RBwetEdAHXjU",
        "outputId": "8be3486a-66a0-4db1-913b-b6eee266eeb3"
      },
      "execution_count": 86,
      "outputs": [
        {
          "output_type": "stream",
          "name": "stdout",
          "text": [
            "{1, 2, 3}\n"
          ]
        }
      ]
    },
    {
      "cell_type": "code",
      "source": [
        "#DISCARD\n",
        "my_set.discard(5) # duplicates are never considered\n",
        "print(my_set)"
      ],
      "metadata": {
        "colab": {
          "base_uri": "https://localhost:8080/"
        },
        "id": "i417QiX_GXyV",
        "outputId": "99dd1174-cea8-49ac-fb7a-41a4876847bb"
      },
      "execution_count": 78,
      "outputs": [
        {
          "output_type": "stream",
          "name": "stdout",
          "text": [
            "{1, 2, 3, 4}\n"
          ]
        }
      ]
    },
    {
      "cell_type": "code",
      "source": [
        "#INTERSECTION\n",
        "\n",
        "print(my_set.intersection(your_set))\n",
        "print(my_set & your_set) # shortcut"
      ],
      "metadata": {
        "colab": {
          "base_uri": "https://localhost:8080/"
        },
        "id": "dwgIZ6lqOppL",
        "outputId": "3fca90e1-4ca9-4d0e-b6f8-d6bde89909f4"
      },
      "execution_count": 90,
      "outputs": [
        {
          "output_type": "stream",
          "name": "stdout",
          "text": [
            "{4, 5}\n",
            "{4, 5}\n"
          ]
        }
      ]
    },
    {
      "cell_type": "code",
      "source": [
        "#UNION\n",
        "\n",
        "print(my_set.union(your_set))\n",
        "print(my_set | your_set) # shortcut"
      ],
      "metadata": {
        "colab": {
          "base_uri": "https://localhost:8080/"
        },
        "id": "KieuI_7MPNwy",
        "outputId": "8dd9e325-5c42-483b-c259-d6d35d6c4df1"
      },
      "execution_count": 92,
      "outputs": [
        {
          "output_type": "stream",
          "name": "stdout",
          "text": [
            "{1, 2, 3, 4, 5, 6, 7, 8, 9}\n",
            "{1, 2, 3, 4, 5, 6, 7, 8, 9}\n"
          ]
        }
      ]
    },
    {
      "cell_type": "code",
      "source": [
        "#DISJOINT (if no common elts are present in the sets)\n",
        "print(my_set.isdisjoint(your_set)) # they have 4 and 5 in common\n",
        "print(my_set.isdisjoint(some_set))"
      ],
      "metadata": {
        "colab": {
          "base_uri": "https://localhost:8080/"
        },
        "id": "kwLh38zJPddV",
        "outputId": "25a1a96e-4207-48b8-a972-138242aeee8b"
      },
      "execution_count": 97,
      "outputs": [
        {
          "output_type": "stream",
          "name": "stdout",
          "text": [
            "False\n",
            "True\n"
          ]
        }
      ]
    },
    {
      "cell_type": "code",
      "source": [
        "#SUBSET\n",
        "print(another_set.issubset(my_set))"
      ],
      "metadata": {
        "colab": {
          "base_uri": "https://localhost:8080/"
        },
        "id": "0oTd252mPxBL",
        "outputId": "d33cbac7-7903-42dd-98fe-7c4dc548548b"
      },
      "execution_count": 99,
      "outputs": [
        {
          "output_type": "stream",
          "name": "stdout",
          "text": [
            "True\n"
          ]
        }
      ]
    },
    {
      "cell_type": "code",
      "source": [
        "#SUPERSET\n",
        "print(my_set.issuperset(another_set))"
      ],
      "metadata": {
        "colab": {
          "base_uri": "https://localhost:8080/"
        },
        "id": "KlxnodtNTRhA",
        "outputId": "2092ef64-697c-43c5-a477-a66f7c44a878"
      },
      "execution_count": 100,
      "outputs": [
        {
          "output_type": "stream",
          "name": "stdout",
          "text": [
            "True\n"
          ]
        }
      ]
    },
    {
      "cell_type": "code",
      "source": [],
      "metadata": {
        "id": "5NUci6pcTZe1"
      },
      "execution_count": null,
      "outputs": []
    }
  ]
}