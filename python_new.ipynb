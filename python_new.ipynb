{
  "nbformat": 4,
  "nbformat_minor": 0,
  "metadata": {
    "colab": {
      "provenance": [],
      "authorship_tag": "ABX9TyN2HEj2fV2XOE68Sdo5kS7k",
      "include_colab_link": true
    },
    "kernelspec": {
      "name": "python3",
      "display_name": "Python 3"
    },
    "language_info": {
      "name": "python"
    }
  },
  "cells": [
    {
      "cell_type": "markdown",
      "metadata": {
        "id": "view-in-github",
        "colab_type": "text"
      },
      "source": [
        "<a href=\"https://colab.research.google.com/github/Annamjohn/Python/blob/main/python_new.ipynb\" target=\"_parent\"><img src=\"https://colab.research.google.com/assets/colab-badge.svg\" alt=\"Open In Colab\"/></a>"
      ]
    },
    {
      "cell_type": "code",
      "execution_count": null,
      "metadata": {
        "colab": {
          "base_uri": "https://localhost:8080/"
        },
        "id": "jBTp9rbLujyl",
        "outputId": "6fe64346-5555-42f7-b2ce-045866935526"
      },
      "outputs": [
        {
          "output_type": "stream",
          "name": "stdout",
          "text": [
            "Hello\n",
            "4\n",
            "3\n",
            "2+1\n",
            "16\n",
            "12.5\n",
            "0\n",
            "3\n",
            "25\n"
          ]
        }
      ],
      "source": [
        "print(\"Hello\")\n",
        "print(2+2)\n",
        "print(4-1)\n",
        "print(\"2+1\")\n",
        "print(2*8)\n",
        "print(25/2) # proper division float number full\n",
        "print(25%5) #remainder\n",
        "print(15//5) #quotient i.e whole number(floor div)\n",
        "print(5**2) #exponent\n"
      ]
    },
    {
      "cell_type": "code",
      "source": [
        "print(type(3))\n",
        "print(type(2+1.2))\n",
        "print(2+1.3) #normal addn\n",
        "\n",
        "print(round(4.934565665432,2))\n",
        "print(abs(-123))"
      ],
      "metadata": {
        "colab": {
          "base_uri": "https://localhost:8080/"
        },
        "id": "7TqQzIjku1Qc",
        "outputId": "8a8d1b4e-b7ba-4c76-b8c8-16646792bcad"
      },
      "execution_count": null,
      "outputs": [
        {
          "output_type": "stream",
          "name": "stdout",
          "text": [
            "<class 'int'>\n",
            "<class 'float'>\n",
            "3.3\n",
            "4.93\n",
            "123\n"
          ]
        }
      ]
    },
    {
      "cell_type": "markdown",
      "source": [
        "# **Operator precedence**\n",
        "\n",
        "######()\n",
        "#####**\n",
        "#####* / // %\n",
        "#####+ -"
      ],
      "metadata": {
        "id": "qBSbRqBhu7SF"
      }
    },
    {
      "cell_type": "code",
      "source": [
        "print(bin(8))\n",
        "print(int('0b1000',2))"
      ],
      "metadata": {
        "colab": {
          "base_uri": "https://localhost:8080/"
        },
        "id": "g08dDtiQu1Vk",
        "outputId": "84d9d13e-4102-4fa4-aad9-67c131486769"
      },
      "execution_count": null,
      "outputs": [
        {
          "output_type": "stream",
          "name": "stdout",
          "text": [
            "0b1000\n",
            "8\n"
          ]
        }
      ]
    },
    {
      "cell_type": "code",
      "source": [
        "a,b,c=2,5,3\n",
        "print(b)"
      ],
      "metadata": {
        "colab": {
          "base_uri": "https://localhost:8080/"
        },
        "id": "Qq76O5oLu1YG",
        "outputId": "3fe82a18-bb46-475e-e541-b080052a772b"
      },
      "execution_count": null,
      "outputs": [
        {
          "output_type": "stream",
          "name": "stdout",
          "text": [
            "5\n"
          ]
        }
      ]
    },
    {
      "cell_type": "code",
      "source": [
        "print(type('you are a boy?'))"
      ],
      "metadata": {
        "colab": {
          "base_uri": "https://localhost:8080/"
        },
        "id": "lxcFnTB6u1bG",
        "outputId": "3257dcf3-a2c8-43bb-89cc-96c191c70012"
      },
      "execution_count": null,
      "outputs": [
        {
          "output_type": "stream",
          "name": "stdout",
          "text": [
            "<class 'str'>\n"
          ]
        }
      ]
    },
    {
      "cell_type": "code",
      "source": [
        "print('''\n",
        "\n",
        "wowoo you\n",
        "ooo\n",
        "---\n",
        "''') # mutli line string"
      ],
      "metadata": {
        "colab": {
          "base_uri": "https://localhost:8080/"
        },
        "id": "hJts-uPNu1em",
        "outputId": "3b8f7556-93c0-4377-96c9-7663d5771a52"
      },
      "execution_count": null,
      "outputs": [
        {
          "output_type": "stream",
          "name": "stdout",
          "text": [
            "\n",
            "\n",
            "wowoo you\n",
            "ooo\n",
            "---\n",
            "\n"
          ]
        }
      ]
    },
    {
      "cell_type": "markdown",
      "source": [
        "**String concatenation**"
      ],
      "metadata": {
        "id": "9YwZibqM3fsN"
      }
    },
    {
      "cell_type": "code",
      "source": [
        "first_name=input(\"Enter first name\")\n",
        "last_name=input(\"\\nEnter last name\")\n",
        "full_name= first_name + \" \"+ last_name\n",
        "print(full_name)"
      ],
      "metadata": {
        "colab": {
          "base_uri": "https://localhost:8080/"
        },
        "id": "TeBztktE1c_S",
        "outputId": "cdbaf8dd-f39a-4e8b-f71f-d38ffc0f0b0d"
      },
      "execution_count": null,
      "outputs": [
        {
          "output_type": "stream",
          "name": "stdout",
          "text": [
            "Enter first nameannu\n",
            "\n",
            "Enter last namemani\n",
            "annu mani\n"
          ]
        }
      ]
    },
    {
      "cell_type": "markdown",
      "source": [
        "**Type** **conversion**"
      ],
      "metadata": {
        "id": "T1ATtutY3Yey"
      }
    },
    {
      "cell_type": "code",
      "source": [
        "a=str(120)\n",
        "b=float(a)\n",
        "c=type(b)\n",
        "print(c)"
      ],
      "metadata": {
        "colab": {
          "base_uri": "https://localhost:8080/"
        },
        "id": "GyB23ktn2Mb9",
        "outputId": "48360b67-522a-439a-fe3f-f0a996318496"
      },
      "execution_count": null,
      "outputs": [
        {
          "output_type": "stream",
          "name": "stdout",
          "text": [
            "<class 'float'>\n"
          ]
        }
      ]
    },
    {
      "cell_type": "code",
      "source": [
        "print(\" hello, it\\'s \\\"kind of\\\" a good day\")"
      ],
      "metadata": {
        "colab": {
          "base_uri": "https://localhost:8080/"
        },
        "id": "mAkEmgF83WZ1",
        "outputId": "509c64d6-0c36-4103-8e13-fe9ae55bdeba"
      },
      "execution_count": null,
      "outputs": [
        {
          "output_type": "stream",
          "name": "stdout",
          "text": [
            " hello, it's \"kind of\" a good day\n"
          ]
        }
      ]
    },
    {
      "cell_type": "markdown",
      "source": [
        "**Formatted** **strings**"
      ],
      "metadata": {
        "id": "K5AkoVMvjFZP"
      }
    },
    {
      "cell_type": "code",
      "source": [
        "name='Anju'\n",
        "age=27\n",
        "print(f'hi {name} you are {age} years old')\n",
        "\n",
        "print('yo {} how come you are {}?'.format(name,age))"
      ],
      "metadata": {
        "colab": {
          "base_uri": "https://localhost:8080/"
        },
        "id": "qDTj0dXzYszU",
        "outputId": "c7b14782-071e-48a2-cf5e-e47723e9f32f"
      },
      "execution_count": null,
      "outputs": [
        {
          "output_type": "stream",
          "name": "stdout",
          "text": [
            "hi Anju you are 27 years old\n",
            "yo 27 how come you are Anju?\n"
          ]
        }
      ]
    },
    {
      "cell_type": "code",
      "source": [
        "print('{newname} ok {age}'.format(newname='anj',age=20))"
      ],
      "metadata": {
        "colab": {
          "base_uri": "https://localhost:8080/"
        },
        "id": "iGrBIDUThIPC",
        "outputId": "68582d0b-d188-443a-dbaf-4a0f5abd0c05"
      },
      "execution_count": null,
      "outputs": [
        {
          "output_type": "stream",
          "name": "stdout",
          "text": [
            "anj ok 20\n"
          ]
        }
      ]
    },
    {
      "cell_type": "markdown",
      "source": [
        "\n",
        "\n",
        "*   print(f' ')- provide variable names inside {}\n",
        "*   print(' {} and {}'.format(n,a))- empty brackets are enough and mention variable names in .format\n",
        "\n",
        "*  when a variable is assigned a value in .format mention variabke name inside {}\n",
        "\n",
        "\n",
        "\n",
        "\n"
      ],
      "metadata": {
        "id": "aGVBV3UYjKmb"
      }
    },
    {
      "cell_type": "markdown",
      "source": [
        "**String Slicing**\n",
        "\n",
        "[start:stop:stepover]"
      ],
      "metadata": {
        "id": "7FRFLMb8mm2-"
      }
    },
    {
      "cell_type": "code",
      "source": [
        "var='01234567'\n",
        "print(\"1.\", var[3])\n",
        "print(var[0:3])\n",
        "print(var[0:9:2])\n",
        "print(var[-5])\n",
        "print(var[1:])\n",
        "print(var[::-2])\n",
        "print(var[::-1])\n"
      ],
      "metadata": {
        "colab": {
          "base_uri": "https://localhost:8080/"
        },
        "id": "E-NB_d8oiqeM",
        "outputId": "870892b6-1199-4e02-dfb7-f7998ac2b741"
      },
      "execution_count": null,
      "outputs": [
        {
          "output_type": "stream",
          "name": "stdout",
          "text": [
            "1.3\n",
            "012\n",
            "0246\n",
            "3\n",
            "1234567\n",
            "7531\n",
            "76543210\n"
          ]
        }
      ]
    },
    {
      "cell_type": "code",
      "source": [
        "print(var[:6:2])"
      ],
      "metadata": {
        "colab": {
          "base_uri": "https://localhost:8080/"
        },
        "id": "6lD9uR3VlRcZ",
        "outputId": "1557c213-25f5-4baa-89cf-7d3c660517f0"
      },
      "execution_count": null,
      "outputs": [
        {
          "output_type": "stream",
          "name": "stdout",
          "text": [
            "024\n"
          ]
        }
      ]
    },
    {
      "cell_type": "markdown",
      "source": [
        "**Immutability**\n",
        "\n",
        "We cannot reassign a part of string upon declaration. Can entirely replace it though."
      ],
      "metadata": {
        "id": "WOm3N2y5nYpY"
      }
    },
    {
      "cell_type": "code",
      "source": [
        "var='abcdef'\n",
        "var=var + 'g'\n",
        "print(var)"
      ],
      "metadata": {
        "colab": {
          "base_uri": "https://localhost:8080/"
        },
        "id": "cT0uc2Wcma_Q",
        "outputId": "a7b28287-83fa-4bfb-f167-0ea624ac2668"
      },
      "execution_count": null,
      "outputs": [
        {
          "output_type": "stream",
          "name": "stdout",
          "text": [
            "abcdefg\n"
          ]
        }
      ]
    },
    {
      "cell_type": "markdown",
      "source": [
        "**Built- In Fns and Methods**"
      ],
      "metadata": {
        "id": "HbChXATyooso"
      }
    },
    {
      "cell_type": "code",
      "source": [
        "string='hello there'\n",
        "print(len(string))\n",
        "\n",
        "print(string[:])\n",
        "print(string[3:len(string)]) #when slicing it starts from 0"
      ],
      "metadata": {
        "colab": {
          "base_uri": "https://localhost:8080/"
        },
        "id": "tNhAdgqlnw38",
        "outputId": "2219ce1e-d8e0-4cc5-cd97-193c677aae98"
      },
      "execution_count": null,
      "outputs": [
        {
          "output_type": "stream",
          "name": "stdout",
          "text": [
            "11\n",
            "hello there\n",
            "lo there\n"
          ]
        }
      ]
    },
    {
      "cell_type": "markdown",
      "source": [
        "**String length starts from 1 and not 0.**\n"
      ],
      "metadata": {
        "id": "MonFVHUno5Rb"
      }
    },
    {
      "cell_type": "code",
      "source": [
        "quote='to be or not to be'\n",
        "print(quote.upper())\n",
        "print(quote.capitalize()) # capitalizes only the first letter\n",
        "print(quote.lower())\n",
        "print(quote.find('be')) # shows the first occurance of 'be'\n",
        "print(quote.replace('be','me'))\n",
        "print(quote) # since strings are immutable, the alterations made in replace() are not stored and hence we can only create or destroy a string.\n",
        "# you can store the altered string in a new string variable\n",
        "\n",
        "quote2=quote.replace('be','you')\n",
        "print(quote2)"
      ],
      "metadata": {
        "colab": {
          "base_uri": "https://localhost:8080/"
        },
        "id": "wZclEyoEo1_T",
        "outputId": "2d90101d-8d9f-4d66-8504-aceef284b473"
      },
      "execution_count": null,
      "outputs": [
        {
          "output_type": "stream",
          "name": "stdout",
          "text": [
            "TO BE OR NOT TO BE\n",
            "To be or not to be\n",
            "to be or not to be\n",
            "3\n",
            "to me or not to me\n",
            "to be or not to be\n",
            "to you or not to you\n"
          ]
        }
      ]
    },
    {
      "cell_type": "markdown",
      "source": [
        "**Boolean**"
      ],
      "metadata": {
        "id": "Lj2A0TShErQs"
      }
    },
    {
      "cell_type": "code",
      "source": [
        "name=input(\"Enter name\")\n",
        "is_cool=False\n",
        "if(name=='AMJ'):\n",
        "  is_cool=True\n",
        "print(is_cool)\n",
        "print(bool(0))\n",
        "print(bool(1))\n",
        "print(bool('true'))"
      ],
      "metadata": {
        "id": "ebSQGBYuqd9h",
        "colab": {
          "base_uri": "https://localhost:8080/"
        },
        "outputId": "71c4a571-9e54-436f-9d56-f216deeac37d"
      },
      "execution_count": 5,
      "outputs": [
        {
          "output_type": "stream",
          "name": "stdout",
          "text": [
            "Enter nameAMJ\n",
            "True\n",
            "False\n",
            "True\n",
            "True\n"
          ]
        }
      ]
    },
    {
      "cell_type": "code",
      "source": [
        "birth_yr=int(input(\"Enter year of birth: \"))\n",
        "curr_year=2024\n",
        "age=curr_year-birth_yr\n",
        "print(f\"Age: {age}\")"
      ],
      "metadata": {
        "id": "x4wY_a7AEurb",
        "outputId": "d3b6e251-b0b7-4570-b44f-ac4a12687a36",
        "colab": {
          "base_uri": "https://localhost:8080/"
        }
      },
      "execution_count": 6,
      "outputs": [
        {
          "output_type": "stream",
          "name": "stdout",
          "text": [
            "Enter year of birth: 2001\n",
            "Age: 23\n"
          ]
        }
      ]
    },
    {
      "cell_type": "code",
      "source": [
        "birth=input(\"Which year were u born: \")\n",
        "age=2024-float(birth)\n",
        "age2=2024-bool(birth) #2024-1 (True)\n",
        "print(f\"Age is {age} and not {age2}\")"
      ],
      "metadata": {
        "id": "hyyV1gCEFsnX",
        "outputId": "67e16616-4abc-4d7c-d027-dcc59d66ea85",
        "colab": {
          "base_uri": "https://localhost:8080/"
        }
      },
      "execution_count": 8,
      "outputs": [
        {
          "output_type": "stream",
          "name": "stdout",
          "text": [
            "Which year were u born: 1997\n",
            "Age is 27.0 and not 2023\n"
          ]
        }
      ]
    },
    {
      "cell_type": "markdown",
      "source": [
        "**Password checker**"
      ],
      "metadata": {
        "id": "pP75YeerGrMk"
      }
    },
    {
      "cell_type": "code",
      "source": [
        "username= input(\"Enter username: \")\n",
        "password= input(\"Enter password: \")\n",
        "pass_length= len(password)\n",
        "hidden_pass= '*'* pass_length\n",
        "print(f\"Hey {username}, your password {hidden_pass}is {pass_length} letters long\")"
      ],
      "metadata": {
        "id": "fvExjXGGF2p2",
        "outputId": "9410c2d5-8407-4cc9-f3c3-2958ea00c3fd",
        "colab": {
          "base_uri": "https://localhost:8080/"
        }
      },
      "execution_count": 11,
      "outputs": [
        {
          "output_type": "stream",
          "name": "stdout",
          "text": [
            "Enter username: user1\n",
            "Enter password: abc123@\n",
            "Hey user1, your password *******is 7 letters long\n"
          ]
        }
      ]
    },
    {
      "cell_type": "code",
      "source": [],
      "metadata": {
        "id": "_HTYei4DHHQs"
      },
      "execution_count": 11,
      "outputs": []
    }
  ]
}