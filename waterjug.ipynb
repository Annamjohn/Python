{
  "cells": [
    {
      "cell_type": "markdown",
      "metadata": {
        "id": "view-in-github",
        "colab_type": "text"
      },
      "source": [
        "<a href=\"https://colab.research.google.com/github/Annamjohn/Python/blob/main/waterjug.ipynb\" target=\"_parent\"><img src=\"https://colab.research.google.com/assets/colab-badge.svg\" alt=\"Open In Colab\"/></a>"
      ]
    },
    {
      "cell_type": "code",
      "source": [
        "\n",
        "from collections import defaultdict \n",
        "  \n",
        "visited = defaultdict(lambda: False) \n",
        "# To store J1, J2 and Litre\n",
        "J1, J2, L = 0, 0, 0\n",
        "  \n",
        "def Water_Jug_problem(X, Y):  \n",
        "    \n",
        "    global J1, J2, L\n",
        "  \n",
        "    if (X == L and Y == 0) or (Y == L and X == 0): \n",
        "        print(\"(\",X, \", \",Y,\")\", sep =\"\") \n",
        "        return True\n",
        "      \n",
        "    if visited[(X, Y)] == False: \n",
        "        print(\"(\",X, \", \",Y,\")\", sep =\"\") \n",
        "      \n",
        "        visited[(X, Y)] = True\n",
        "      \n",
        "        return (Water_Jug_problem(0, Y) or\n",
        "                Water_Jug_problem(X, 0) or\n",
        "                Water_Jug_problem(J1, Y) or\n",
        "                Water_Jug_problem(X, J2) or\n",
        "                Water_Jug_problem(X + min(Y, (J1-X)), \n",
        "                Y - min(Y, (J1-X))) or\n",
        "                Water_Jug_problem(X - min(X, (J2-Y)), \n",
        "                Y + min(X, (J2-Y)))) \n",
        "    else: \n",
        "        return False\n",
        "  \n",
        "# Main Code\n",
        "J1 =int(input(\"Enter amount of water in jug1(L)\")) \n",
        "J2 = int(input(\"Enter amount of water in jug2(L)\")) \n",
        "L = int(input(\"Enter amount of water to be present\")) \n",
        "print(\"Path is as Follow:\") \n",
        "  \n",
        "Water_Jug_problem(0, 0) "
      ],
      "metadata": {
        "colab": {
          "base_uri": "https://localhost:8080/"
        },
        "id": "6d2UHc7rOuWV",
        "outputId": "505b127c-6eb8-40b8-b5db-3599b718928e"
      },
      "execution_count": 3,
      "outputs": [
        {
          "output_type": "stream",
          "name": "stdout",
          "text": [
            "Enter amount of water in jug1(L)3\n",
            "Enter amount of water in jug2(L)4\n",
            "Enter amount of water to be present2\n",
            "Path is as Follow:\n",
            "(0, 0)\n",
            "(3, 0)\n",
            "(3, 4)\n",
            "(0, 4)\n",
            "(3, 1)\n",
            "(0, 1)\n",
            "(1, 0)\n",
            "(1, 4)\n",
            "(3, 2)\n",
            "(0, 2)\n"
          ]
        },
        {
          "output_type": "execute_result",
          "data": {
            "text/plain": [
              "True"
            ]
          },
          "metadata": {},
          "execution_count": 3
        }
      ]
    }
  ],
  "metadata": {
    "colab": {
      "collapsed_sections": [],
      "name": "Welcome To Colaboratory",
      "toc_visible": true,
      "provenance": [],
      "include_colab_link": true
    },
    "kernelspec": {
      "display_name": "Python 3",
      "name": "python3"
    }
  },
  "nbformat": 4,
  "nbformat_minor": 0
}